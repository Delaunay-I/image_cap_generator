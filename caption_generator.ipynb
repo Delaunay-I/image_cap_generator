{
  "cells": [
    {
      "cell_type": "markdown",
      "metadata": {
        "id": "view-in-github",
        "colab_type": "text"
      },
      "source": [
        "<a href=\"https://colab.research.google.com/github/Delaunay-I/image_cap_generator/blob/main/caption_generator.ipynb\" target=\"_parent\"><img src=\"https://colab.research.google.com/assets/colab-badge.svg\" alt=\"Open In Colab\"/></a>"
      ]
    },
    {
      "cell_type": "code",
      "execution_count": null,
      "metadata": {
        "colab": {
          "base_uri": "https://localhost:8080/"
        },
        "id": "_6Xkro5uPCo_",
        "outputId": "f3e8ca6c-aacd-4f10-b515-807f4c862cae"
      },
      "outputs": [
        {
          "output_type": "stream",
          "name": "stdout",
          "text": [
            "python 3.9.16 (main, Dec  7 2022, 01:11:51) \n",
            "[GCC 9.4.0]\n",
            "keras version 2.12.0\n",
            "tensorflow version 2.12.0\n"
          ]
        }
      ],
      "source": [
        "import matplotlib.pyplot as plt\n",
        "import tensorflow as tf\n",
        "import keras\n",
        "import sys, time, os, warnings \n",
        "import numpy as np\n",
        "import pandas as pd \n",
        "from collections import Counter \n",
        "\n",
        "print(\"python {}\".format(sys.version))\n",
        "print(\"keras version {}\".format(keras.__version__)); del keras\n",
        "print(\"tensorflow version {}\".format(tf.__version__))\n",
        "\n",
        "def set_seed(sd=123):\n",
        "    from numpy.random import seed\n",
        "    from tensorflow import set_random_seed\n",
        "    import random as rn\n",
        "    ## numpy random seed\n",
        "    seed(sd)\n",
        "    ## core python's random number \n",
        "    rn.seed(sd)\n",
        "    ## tensor flow's random number\n",
        "    set_random_seed(sd)"
      ]
    },
    {
      "cell_type": "code",
      "execution_count": null,
      "metadata": {
        "colab": {
          "base_uri": "https://localhost:8080/"
        },
        "id": "mu7zkvTxPT-9",
        "outputId": "717daf0e-fb03-41f6-d7a6-a4c71e6fe408"
      },
      "outputs": [
        {
          "output_type": "stream",
          "name": "stdout",
          "text": [
            "Looking in indexes: https://pypi.org/simple, https://us-python.pkg.dev/colab-wheels/public/simple/\n",
            "Requirement already satisfied: opendatasets in /usr/local/lib/python3.9/dist-packages (0.1.22)\n",
            "Requirement already satisfied: tqdm in /usr/local/lib/python3.9/dist-packages (from opendatasets) (4.65.0)\n",
            "Requirement already satisfied: click in /usr/local/lib/python3.9/dist-packages (from opendatasets) (8.1.3)\n",
            "Requirement already satisfied: kaggle in /usr/local/lib/python3.9/dist-packages (from opendatasets) (1.5.13)\n",
            "Requirement already satisfied: requests in /usr/local/lib/python3.9/dist-packages (from kaggle->opendatasets) (2.27.1)\n",
            "Requirement already satisfied: six>=1.10 in /usr/local/lib/python3.9/dist-packages (from kaggle->opendatasets) (1.16.0)\n",
            "Requirement already satisfied: certifi in /usr/local/lib/python3.9/dist-packages (from kaggle->opendatasets) (2022.12.7)\n",
            "Requirement already satisfied: urllib3 in /usr/local/lib/python3.9/dist-packages (from kaggle->opendatasets) (1.26.15)\n",
            "Requirement already satisfied: python-dateutil in /usr/local/lib/python3.9/dist-packages (from kaggle->opendatasets) (2.8.2)\n",
            "Requirement already satisfied: python-slugify in /usr/local/lib/python3.9/dist-packages (from kaggle->opendatasets) (8.0.1)\n",
            "Requirement already satisfied: text-unidecode>=1.3 in /usr/local/lib/python3.9/dist-packages (from python-slugify->kaggle->opendatasets) (1.3)\n",
            "Requirement already satisfied: charset-normalizer~=2.0.0 in /usr/local/lib/python3.9/dist-packages (from requests->kaggle->opendatasets) (2.0.12)\n",
            "Requirement already satisfied: idna<4,>=2.5 in /usr/local/lib/python3.9/dist-packages (from requests->kaggle->opendatasets) (3.4)\n",
            "Skipping, found downloaded files in \"./flickr8k\" (use force=True to force download)\n"
          ]
        }
      ],
      "source": [
        "!pip install opendatasets\n",
        "import opendatasets as od\n",
        "import pandas\n",
        "\n",
        "od.download(\"https://www.kaggle.com/datasets/adityajn105/flickr8k\")"
      ]
    },
    {
      "cell_type": "code",
      "execution_count": null,
      "metadata": {
        "colab": {
          "base_uri": "https://localhost:8080/"
        },
        "id": "oNw0Wid3Vlpu",
        "outputId": "4c51397f-c69d-4b53-8596-28836ea2b500"
      },
      "outputs": [
        {
          "output_type": "stream",
          "name": "stdout",
          "text": [
            "The number of jpg flies in Flicker8k: 8091\n"
          ]
        }
      ],
      "source": [
        "## The location of the Flickr8K_ photos\n",
        "dir_Flickr_jpg = \"./flickr8k/Images\"\n",
        "## The location of the caption file\n",
        "dir_Flickr_text = \"./flickr8k/captions.txt\"\n",
        "\n",
        "jpgs = os.listdir(dir_Flickr_jpg)\n",
        "print(\"The number of jpg flies in Flicker8k: {}\".format(len(jpgs)))"
      ]
    },
    {
      "cell_type": "markdown",
      "metadata": {
        "id": "45SpOt_GXL-u"
      },
      "source": [
        "## Preliminary Analysis"
      ]
    },
    {
      "cell_type": "code",
      "execution_count": null,
      "metadata": {
        "colab": {
          "base_uri": "https://localhost:8080/"
        },
        "id": "0YVHrZfSYxmO",
        "outputId": "85bdd0a3-1fe0-447b-fd18-607c2fb44c5f"
      },
      "outputs": [
        {
          "output_type": "stream",
          "name": "stdout",
          "text": [
            "The number of unique file names : 8091\n",
            "The distribution of the number of captions for each image:\n"
          ]
        },
        {
          "output_type": "execute_result",
          "data": {
            "text/plain": [
              "Counter({5: 8091})"
            ]
          },
          "metadata": {},
          "execution_count": 11
        }
      ],
      "source": [
        "df_txt = pd.read_csv(dir_Flickr_text, skiprows=1, names=[\"filename\", \"caption\"])\n",
        "df_txt['caption'] = df_txt['caption'].str.lower()\n",
        "\n",
        "df_txt['index'] = df_txt.groupby(\"filename\").cumcount()\n",
        "\n",
        "uni_filenames = np.unique(df_txt.filename.values)\n",
        "print(\"The number of unique file names : {}\".format(len(uni_filenames)))\n",
        "print(\"The distribution of the number of captions for each image:\")\n",
        "Counter(Counter(df_txt.filename.values).values())"
      ]
    },
    {
      "cell_type": "markdown",
      "metadata": {
        "id": "1OEq8DiKoR_Y"
      },
      "source": [
        "# Data prepration\n",
        "prepare text and image separately"
      ]
    },
    {
      "cell_type": "code",
      "execution_count": null,
      "metadata": {
        "colab": {
          "base_uri": "https://localhost:8080/",
          "height": 206
        },
        "id": "HMihehhY6Ps7",
        "outputId": "6755bccf-c5a0-4811-e7f8-52ef27bf802b"
      },
      "outputs": [
        {
          "output_type": "execute_result",
          "data": {
            "text/plain": [
              "                    filename  \\\n",
              "0  1000268201_693b08cb0e.jpg   \n",
              "1  1000268201_693b08cb0e.jpg   \n",
              "2  1000268201_693b08cb0e.jpg   \n",
              "3  1000268201_693b08cb0e.jpg   \n",
              "4  1000268201_693b08cb0e.jpg   \n",
              "\n",
              "                                             caption  index  \n",
              "0  startseq a child in a pink dress is climbing u...      0  \n",
              "1  startseq a girl going into a wooden building ....      1  \n",
              "2  startseq a little girl climbing into a wooden ...      2  \n",
              "3  startseq a little girl climbing the stairs to ...      3  \n",
              "4  startseq a little girl in a pink dress going i...      4  "
            ],
            "text/html": [
              "\n",
              "  <div id=\"df-52b180e6-496d-4152-b1d8-e008158c4379\">\n",
              "    <div class=\"colab-df-container\">\n",
              "      <div>\n",
              "<style scoped>\n",
              "    .dataframe tbody tr th:only-of-type {\n",
              "        vertical-align: middle;\n",
              "    }\n",
              "\n",
              "    .dataframe tbody tr th {\n",
              "        vertical-align: top;\n",
              "    }\n",
              "\n",
              "    .dataframe thead th {\n",
              "        text-align: right;\n",
              "    }\n",
              "</style>\n",
              "<table border=\"1\" class=\"dataframe\">\n",
              "  <thead>\n",
              "    <tr style=\"text-align: right;\">\n",
              "      <th></th>\n",
              "      <th>filename</th>\n",
              "      <th>caption</th>\n",
              "      <th>index</th>\n",
              "    </tr>\n",
              "  </thead>\n",
              "  <tbody>\n",
              "    <tr>\n",
              "      <th>0</th>\n",
              "      <td>1000268201_693b08cb0e.jpg</td>\n",
              "      <td>startseq a child in a pink dress is climbing u...</td>\n",
              "      <td>0</td>\n",
              "    </tr>\n",
              "    <tr>\n",
              "      <th>1</th>\n",
              "      <td>1000268201_693b08cb0e.jpg</td>\n",
              "      <td>startseq a girl going into a wooden building ....</td>\n",
              "      <td>1</td>\n",
              "    </tr>\n",
              "    <tr>\n",
              "      <th>2</th>\n",
              "      <td>1000268201_693b08cb0e.jpg</td>\n",
              "      <td>startseq a little girl climbing into a wooden ...</td>\n",
              "      <td>2</td>\n",
              "    </tr>\n",
              "    <tr>\n",
              "      <th>3</th>\n",
              "      <td>1000268201_693b08cb0e.jpg</td>\n",
              "      <td>startseq a little girl climbing the stairs to ...</td>\n",
              "      <td>3</td>\n",
              "    </tr>\n",
              "    <tr>\n",
              "      <th>4</th>\n",
              "      <td>1000268201_693b08cb0e.jpg</td>\n",
              "      <td>startseq a little girl in a pink dress going i...</td>\n",
              "      <td>4</td>\n",
              "    </tr>\n",
              "  </tbody>\n",
              "</table>\n",
              "</div>\n",
              "      <button class=\"colab-df-convert\" onclick=\"convertToInteractive('df-52b180e6-496d-4152-b1d8-e008158c4379')\"\n",
              "              title=\"Convert this dataframe to an interactive table.\"\n",
              "              style=\"display:none;\">\n",
              "        \n",
              "  <svg xmlns=\"http://www.w3.org/2000/svg\" height=\"24px\"viewBox=\"0 0 24 24\"\n",
              "       width=\"24px\">\n",
              "    <path d=\"M0 0h24v24H0V0z\" fill=\"none\"/>\n",
              "    <path d=\"M18.56 5.44l.94 2.06.94-2.06 2.06-.94-2.06-.94-.94-2.06-.94 2.06-2.06.94zm-11 1L8.5 8.5l.94-2.06 2.06-.94-2.06-.94L8.5 2.5l-.94 2.06-2.06.94zm10 10l.94 2.06.94-2.06 2.06-.94-2.06-.94-.94-2.06-.94 2.06-2.06.94z\"/><path d=\"M17.41 7.96l-1.37-1.37c-.4-.4-.92-.59-1.43-.59-.52 0-1.04.2-1.43.59L10.3 9.45l-7.72 7.72c-.78.78-.78 2.05 0 2.83L4 21.41c.39.39.9.59 1.41.59.51 0 1.02-.2 1.41-.59l7.78-7.78 2.81-2.81c.8-.78.8-2.07 0-2.86zM5.41 20L4 18.59l7.72-7.72 1.47 1.35L5.41 20z\"/>\n",
              "  </svg>\n",
              "      </button>\n",
              "      \n",
              "  <style>\n",
              "    .colab-df-container {\n",
              "      display:flex;\n",
              "      flex-wrap:wrap;\n",
              "      gap: 12px;\n",
              "    }\n",
              "\n",
              "    .colab-df-convert {\n",
              "      background-color: #E8F0FE;\n",
              "      border: none;\n",
              "      border-radius: 50%;\n",
              "      cursor: pointer;\n",
              "      display: none;\n",
              "      fill: #1967D2;\n",
              "      height: 32px;\n",
              "      padding: 0 0 0 0;\n",
              "      width: 32px;\n",
              "    }\n",
              "\n",
              "    .colab-df-convert:hover {\n",
              "      background-color: #E2EBFA;\n",
              "      box-shadow: 0px 1px 2px rgba(60, 64, 67, 0.3), 0px 1px 3px 1px rgba(60, 64, 67, 0.15);\n",
              "      fill: #174EA6;\n",
              "    }\n",
              "\n",
              "    [theme=dark] .colab-df-convert {\n",
              "      background-color: #3B4455;\n",
              "      fill: #D2E3FC;\n",
              "    }\n",
              "\n",
              "    [theme=dark] .colab-df-convert:hover {\n",
              "      background-color: #434B5C;\n",
              "      box-shadow: 0px 1px 3px 1px rgba(0, 0, 0, 0.15);\n",
              "      filter: drop-shadow(0px 1px 2px rgba(0, 0, 0, 0.3));\n",
              "      fill: #FFFFFF;\n",
              "    }\n",
              "  </style>\n",
              "\n",
              "      <script>\n",
              "        const buttonEl =\n",
              "          document.querySelector('#df-52b180e6-496d-4152-b1d8-e008158c4379 button.colab-df-convert');\n",
              "        buttonEl.style.display =\n",
              "          google.colab.kernel.accessAllowed ? 'block' : 'none';\n",
              "\n",
              "        async function convertToInteractive(key) {\n",
              "          const element = document.querySelector('#df-52b180e6-496d-4152-b1d8-e008158c4379');\n",
              "          const dataTable =\n",
              "            await google.colab.kernel.invokeFunction('convertToInteractive',\n",
              "                                                     [key], {});\n",
              "          if (!dataTable) return;\n",
              "\n",
              "          const docLinkHtml = 'Like what you see? Visit the ' +\n",
              "            '<a target=\"_blank\" href=https://colab.research.google.com/notebooks/data_table.ipynb>data table notebook</a>'\n",
              "            + ' to learn more about interactive tables.';\n",
              "          element.innerHTML = '';\n",
              "          dataTable['output_type'] = 'display_data';\n",
              "          await google.colab.output.renderOutput(dataTable, element);\n",
              "          const docLink = document.createElement('div');\n",
              "          docLink.innerHTML = docLinkHtml;\n",
              "          element.appendChild(docLink);\n",
              "        }\n",
              "      </script>\n",
              "    </div>\n",
              "  </div>\n",
              "  "
            ]
          },
          "metadata": {},
          "execution_count": 12
        }
      ],
      "source": [
        "from copy import copy\n",
        "def add_start_end_seq_token(captions):\n",
        "    caps = []\n",
        "    for txt in captions:\n",
        "        txt = 'startseq ' + txt + ' endseq'\n",
        "        caps.append(txt)\n",
        "    return(caps)\n",
        "\n",
        "df_txt[\"caption\"] = add_start_end_seq_token(df_txt[\"caption\"])\n",
        "df_txt.head(5)"
      ]
    },
    {
      "cell_type": "markdown",
      "source": [
        "# split the dataset int train and test splits"
      ],
      "metadata": {
        "id": "nhfZe4SJDGlo"
      }
    },
    {
      "cell_type": "code",
      "source": [
        "from sklearn.model_selection import train_test_split\n",
        "\n",
        "# split your df_txt into train and test sets\n",
        "df_train, df_test = train_test_split(df_txt, test_size=0.2)"
      ],
      "metadata": {
        "id": "MxqCDgSDDFKw"
      },
      "execution_count": null,
      "outputs": []
    },
    {
      "cell_type": "markdown",
      "metadata": {
        "id": "p3L06Z6A8aSl"
      },
      "source": [
        "# Image prepration\n",
        "## create features for image using InceptionV3 model"
      ]
    },
    {
      "cell_type": "code",
      "execution_count": null,
      "metadata": {
        "id": "GgffeHrI8d49",
        "colab": {
          "base_uri": "https://localhost:8080/"
        },
        "outputId": "8512a4e2-95d8-43a0-8f40-0d959d2c69d5"
      },
      "outputs": [
        {
          "output_type": "stream",
          "name": "stdout",
          "text": [
            "Downloading data from https://storage.googleapis.com/tensorflow/keras-applications/inception_v3/inception_v3_weights_tf_dim_ordering_tf_kernels.h5\n",
            "96112376/96112376 [==============================] - 5s 0us/step\n"
          ]
        }
      ],
      "source": [
        "from keras.applications.inception_v3 import InceptionV3, preprocess_input\n",
        "from keras.models import Model\n",
        "\n",
        "base_model = InceptionV3(weights='imagenet')\n",
        "image_model = Model(inputs = base_model.input, outputs=base_model.layers[-2].output)"
      ]
    },
    {
      "cell_type": "code",
      "execution_count": null,
      "metadata": {
        "id": "O2ZHDosMOXWn"
      },
      "outputs": [],
      "source": [
        "from tensorflow.keras.utils import load_img, img_to_array\n",
        "from keras.applications.inception_v3 import preprocess_input\n",
        "import glob\n",
        "import pickle\n",
        "\n",
        "train_path = dir_Flickr_jpg\n",
        "path_all_images = glob.glob(train_path + '/*jpg')\n",
        "\n",
        "train_img = []  # list of all images in training set\n",
        "test_img = []\n",
        "for im in path_all_images:\n",
        "  file_name = os.path.basename(os.path.normpath(im))\n",
        "  # include images that only exist in the target directory\n",
        "  # can split the dataset this way\n",
        "  if(file_name in df_train.filename.to_list()):\n",
        "    train_img.append(im)\n",
        "  elif (file_name in df_test.filename.to_list()):\n",
        "    test_img.append(im)\n",
        "\n",
        "def preprocess(image_path):\n",
        "  # inception v3 excepts img in 299 * 299 * 3\n",
        "  image = load_img(image_path, target_size=(299, 299))\n",
        "  # convert the image pixels to a numpy array\n",
        "  x = img_to_array(image)\n",
        "  # Add one more dimension\n",
        "  x = np.expand_dims(x, axis = 0)\n",
        "  x = preprocess_input(x)\n",
        "  return x\n",
        "\n",
        "def encode(image_path):\n",
        "  image = preprocess(image_path)\n",
        "  vec = image_model.predict(image, verbose=0)\n",
        "  vec_flattened = vec.flatten()\n",
        "  return vec_flattened\n",
        "\n",
        "\n",
        "train_img_feats = {}\n",
        "test_img_feats = {}\n",
        "\n",
        "if not (os.path.exists('train_encoder.pkl') and os.path.exists('test_encoder.pkl')):\n",
        "    for image in train_img:\n",
        "        file_name = os.path.basename(os.path.normpath(image))\n",
        "        train_img_feats[file_name] = encode(image)\n",
        "    for image in test_img:\n",
        "        file_name = os.path.basename(os.path.normpath(image))\n",
        "        test_img_feats[file_name] = encode(image)\n",
        "    # Save the image features\n",
        "    with open('train_encoder.pkl', 'wb') as f:\n",
        "      pickle.dump(train_img_feats, f)\n",
        "    with open('test_encoder.pkl', 'wb') as f:\n",
        "      pickle.dump(test_img_feats, f)\n",
        "else:\n",
        "    # Load previously encoded image data\n",
        "    with open('train_encoder.pkl', 'rb') as f:\n",
        "        train_img_feats = pickle.load(f)\n",
        "    with open('test_encoder.pkl', 'rb') as f:\n",
        "        test_img_feats = pickle.load(f)"
      ]
    },
    {
      "cell_type": "markdown",
      "metadata": {
        "id": "mAoKpyScvQXD"
      },
      "source": [
        "# Tokenize the captions"
      ]
    },
    {
      "cell_type": "code",
      "execution_count": null,
      "metadata": {
        "colab": {
          "base_uri": "https://localhost:8080/"
        },
        "id": "O06giiUErwmI",
        "outputId": "0bcff534-22fa-4c96-ac4f-13f04d48678c"
      },
      "outputs": [
        {
          "output_type": "stream",
          "name": "stdout",
          "text": [
            "['', '[UNK]', 'a', 'startseq', 'endseq', 'in', 'the', 'on', 'is', 'and', 'dog', 'with', 'man', 'of', 'two', 'white', 'black', 'boy', 'are', 'woman', 'girl', 'to', 'wearing', 'at', 'people', 'water', 'red', 'young', 'brown', 'an', 'his', 'blue', 'dogs', 'running', 'through', 'playing', 'while', 'down', 'shirt', 'standing', 'ball', 'little', 'grass', 'child', 'person', 'snow', 'jumping', 'over', 'front', 'three', 'sitting', 'holding', 'field', 'small', 'up', 'by', 'large', 'green', 'group', 'one', 'yellow', 'her', 'walking', 'children', 'men', 'into', 'air', 'beach', 'near', 'mouth', 'jumps', 'another', 'for', 'street', 'runs', 'its', 'from', 'riding', 'stands', 'bike', 'as', 'girls', 'outside', 'other', 'out', 'rock', 'next', 'play', 'off', 'looking', 'orange', 'pink', 'player', 'their', 'pool', 'camera', 'hat', 'jacket', 'boys', 'women', 'around', 'behind', 'some', 'background', 'dirt', 'toy', 'soccer', 'sits', 'dressed', 'has', 'wall', 'mountain', 'walks', 'crowd', 'along', 'plays', 'stand', 'looks', 'building', 'park', 'climbing', 'four', 'top', 'football', 'face', 'across', 'grassy', 'holds', 'stick', 'sand', 'smiling', 'ocean', 'rides', 'swimming', 'hill', 'skateboard', 'doing', 'carrying', 'each', 'tennis', 'car', 'snowy', 'picture', 'baby', 'tree', 'bicycle', 'together', 'hair', 'him', 's', 'jump', 'it', 'area', 'that', 'basketball', 'tan', 'road', 'trick', 'race', 'back', 'shorts', 'head', 'swing', 'sidewalk', 'bench', 'catch', 'game', 'run', 'sit', 'helmet', 'ground', 'dress', 'something', 'hand', 'kids', 'fence', 'being', 'frisbee', 'lake', 'path', 'ramp', 'city', 'wave', 'walk', 'skateboarder', 'several', 'purple', 'covered', 'there', 'slide', 'side', 'baseball', 'posing', 'track', 'players', 'wooden', 'long', 'high', 'big', 'sunglasses', 'watches', 'boat', 'uniform', 'coat', 'trees', 'them', 'pants', 'look', 'table', 'rocks', 'ride', 'watching', 'motorcycle', 'rope', 'dark', 'couple', 'towards', 'grey', 'beside', 'arms', 'under', 'hands', 'sign', 'rocky', 'suit', 'watch', 'snowboarder', 'river', 'horse', 'does', 'racing', 'above', 'older', 'jeans', 'lady', 'ice', 'colorful', 'striped', 'who', 'pose', 'woods', 'onto', 'midair', 'guy', 'he', 'glasses', 'taking', 'mountains', 'leaps', 'asian', 'yard', 'playground', 'against', 'climbs', 'collar', 'performing', 'blonde', 'hockey', 'cliff', 'cap', 'bird', 'smiles', 'open', 'body', 'blond', 'laying', 'team', 'surfer', 'rider', 'many', 'chasing', 'after', 'kid', 'fountain', 'skier', 'wet', 'surrounded', 'outdoors', 'inside', 'during', 'flying', 'old', 'brick', 'others', 'biker', 'takes', 'shore', 'edge', 'colored', 'toddler', 'away', 'guitar', 'hanging', 'very', 'trying', 'light', 'someone', 'forest', 'outfit', 'backpack', 'night', 'middle', 'five', 'pole', 'talking', 'bed', 'steps', 'object', 'making', 'tshirt', 'nearby', 'gray', 'floor', 'whilst', 'about', 'going', 'flowers', 'past', 'line', 'arm', 'trail', 'toward', 'tall', 'surfboard', 'sky', 'swinging', 'haired', 'eating', 'dancing', 'waves', 'this', 'poses', 'leaves', 'bridge', 'board', 'window', 'leaping', 'day', 'outdoor', 'all', 'bag', 'course', 'clothes', 'legs', 'room', 'house', 'fighting', 'costume', 'chair', 'plastic', 'leash', 'shallow', 'clothing', 'splashing', 'carries', 'stone', 'ready', 'obstacle', 'between', 'getting', 'climber', 'sliding', 'catches', 'bright', 'adult', 'they', 'swings', 'skateboarding', 'sweater', 'shirts', 'concrete', 'bathing', 'waiting', 'trampoline', 'lawn', 'sled', 'winter', 'wears', 'uniforms', 'skiing', 'gear', 'mud', 'jersey', 'metal', 'male', 'railing', 'number', 'tongue', 'stream', 'store', 'sandy', 'pulling', 'fire', 'throwing', 'stairs', 'catching', 'train', 'set', 'lot', 'golden', 'drink', 'distance', 'tries', 'gets', 'get', 'fishing', 'bar', 'adults', 'sun', 'swims', 'smile', 'shirtless', 'overlooking', 'flies', 'rail', 'female', 'couch', 'wooded', 'tricks', 'makes', 'puppy', 'drinking', 'busy', 'ski', 'lying', 'chases', 'vest', 'flag', 'animal', 'tire', 'swim', 'performs', 'cellphone', 'upside', 'surfing', 'reading', 'pond', 'laughing', 'trunks', 'right', 'leaning', 'shopping', 'huge', 'she', 'puddle', 'dock', 'slides', 'photo', 'horses', 'food', 'eyes', 'sunset', 'shoes', 'flip', 'bat', 'nose', 'left', 'hats', 'truck', 'kayak', 'coming', 'bubbles', 'american', 'snowboard', 'scarf', 'hold', 'stunt', 'or', 'no', 'feet', 'climb', 'umbrella', 'life', 'family', 'cart', 'bikes', 'wetsuit', 'waterfall', 'restaurant', 'equipment', 'elderly', 'view', 'greyhound', 'hurdle', 'goal', 'both', 'biting', 'tent', 'skating', 'lone', 'harness', 'deep', 'skis', 'setting', 'muddy', 'mask', 'like', 'bus', 'take', 'hiker', 'flags', 'falling', 'vehicle', 'skirt', 'paper', 'guys', 'dry', 'court', 'bags', 'sweatshirt', 'surf', 'dresses', 'closeup', 'structure', 'six', 'ledge', 'fight', 'crowded', 'book', 'bmx', 'be', 'tank', 'slope', 'raft', 'pile', 'cigarette', 'skate', 'kick', 'german', 'driving', 'airborne', 'have', 'faces', 'cement', 'inflatable', 'goggles', 'goes', 'diving', 'costumes', 'wood', 'teenage', 'subway', 'parking', 'kicking', 'cyclist', 'canoe', 'bottle', 'splashes', 'shaking', 'dance', 'buildings', 'turn', 'parade', 'hit', 'fallen', 'short', 'shepherd', 'ring', 'ears', 'jackets', 'gathered', 'blanket', 'tunnel', 'throws', 'sports', 'smoking', 'smaller', 'silver', 'pictures', 'microphone', 'full', 'chairs', 'band', 'backyard', 'sunny', 'low', 'leather', 'held', 'event', 'boots', 'bikini', 'beard', 'balls', 'surface', 'stage', 'kicks', 'graffiti', 'fluffy', 'cat', 'cars', 'using', 'rugby', 'pushing', 'piece', 'outfits', 'hiking', 'bull', 'stuffed', 'statue', 'pointing', 'painted', 'box', 'bicyclist', 'sticks', 'steep', 'bucket', 'blowing', 'bald', 'wheel', 'tube', 'swimsuit', 'suits', 'paint', 'glass', 'drinks', 'door', 'volleyball', 'throw', 'sleeping', 'scooter', 'gold', 'wrestling', 'hugging', 'furry', 'cow', 'corner', 'shot', 'same', 'points', 'net', 'motorcyclist', 'make', 'leg', 'hind', 'hangs', 'flower', 'crossing', 'cowboy', 'wrestle', 'staring', 'spectators', 'police', 'leans', 'kissing', 'attempting', 'teams', 'show', 'sheep', 'party', 'lays', 'few', 'bunch', 'attempts', 'wading', 'snowboarding', 'puppies', 'log', 'facing', 'cup', 'bicycles', 'below', 'beige', 'garden', 'desert', 'underwater', 'sticking', 'sprinkler', 'softball', 'onlookers', 'go', 'gather', 'fish', 'competition', 'beautiful', 'attached', 'wide', 'waving', 'racket', 'racetrack', 'poles', 'hoop', 'gym', 'fast', 'end', 'eats', 'which', 'talks', 'rolling', 'rain', 'phone', 'naked', 'gravel', 'dances', 'base', 'wings', 'way', 'signs', 'seat', 'racer', 'prepares', 'motocross', 'headband', 'empty', 'do', 'toys', 'snowcovered', 'seated', 'pushes', 'plaid', 'mohawk', 'market', 'ladies', 'hits', 'heads', 'handstand', 'downhill', 'cross', 'clear', 'bride', 'branch', 'birds', 'wear', 'shop', 'public', 'platform', 'pavement', 'paddling', 'neck', 'just', 'having', 'fenced', 'traffic', 'skateboards', 'scene', 'rough', 'among', 'reads', 'gloves', 'chewing', 'urban', 'thrown', 'teeth', 'school', 'rural', 'races', 'landscape', 'kitchen', 'hose', 'drives', 'different', 'cream', 'beer', 'barefoot', 'african', 'splash', 'shoulder', 'resting', 'foot', 'filled', 'display', 'dirty', 'cricket', 'carnival', 'bottom', 'before', 'bars', 'balloon', 'younger', 'wedding', 'waits', 'wait', 'smoke', 'says', 'plants', 'paved', 'painting', 'opposing', 'mother', 'match', 'lit', 'lies', 'indoor', 'goalie', 'creek', 'close', 'carpet', 'bearded', 'wrestler', 'stadium', 'showing', 'rapids', 'lap', 'headphones', 'greyhounds', 'fall', 'blows', 'animals', 'skates', 'santa', 'reaching', 'parked', 'onstage', 'moving', 'gun', 'boats', 'block', 'where', 'tie', 'third', 'talk', 'singing', 'seen', 'runner', 'paddle', 'mouths', 'lights', 'instruments', 'hula', 'foreground', 'falls', 'chase', 'bandanna', 'video', 'shooting', 'pulled', 'poodle', 'photograph', 'motorbike', 'matching', 'helmets', 'funny', 'ear', 'deck', 'can', 'atv', 'art', 'wire', 'unicycle', 'try', 'staircase', 'ropes', 'reaches', 'pipe', 'outstretched', 'newspaper', 'multicolored', 'hitting', 'hay', 'floating', 'fair', 'christmas', 'audience', 'amusement', 'wheelie', 'teenagers', 'spray', 'spotted', 'shoulders', 'shakes', 'retriever', 'raises', 'purse', 'preparing', 'pack', 'martial', 'hole', 'grinding', 'giant', 'fly', 'flight', 'duck', 'curly', 'bushes', 'bubble', 'bank', 'atop', 'alongside', 'surfs', 'skiers', 'pulls', 'plate', 'muzzle', 'lined', 'larger', 'kite', 'formation', 'follows', 'finger', 'digging', 'chain', 'appears', 'terrain', 'stop', 'rowing', 'rodeo', 'putting', 'perform', 'muzzled', 'music', 'jeep', 'hoodie', 'hikers', 'enjoys', 'denim', 'covering', 'balancing', 'alone', 'station', 'spinning', 'shaggy', 'row', 'puts', 'picnic', 'parachute', 'paddles', 'kneeling', 'indoors', 'himself', 'giving', 'gives', 'backwards', 'shows', 'shadow', 'roller', 'pier', 'laughs', 'jumped', 'hooded', 'handrail', 'cold', 'break', 'bite', 'backs', 'writing', 'sniffing', 'safety', 'round', 'riders', 'pull', 'playfully', 'owner', 'necklace', 'makeup', 'licking', 'ladder', 'hang', 'half', 'gate', 'enjoying', 'counter', 'competing', 'clouds', 'brightly', 'backpacks', 'violin', 'underneath', 'terrier', 'tackle', 'seven', 'passing', 'mound', 'machine', 'fingers', 'fetch', 'doorway', 'construction', 'cloth', 'bites', 'bikers', 'basket', 'wheelchair', 'tug', 'these', 'taken', 'step', 'splashed', 'sea', 'rollerblades', 'rink', 'referee', 'quickly', 'professional', 'pigeons', 'paws', 'made', 'leap', 'jungle', 'hillside', 'fur', 'friend', 'ducks', 'decorated', 'crouches', 'computer', 'collie', 'coats', 'camouflage', 'bowl', 'waters', 'walkway', 'trunk', 'straw', 'spots', 'skater', 'rollerblading', 'opposite', 'military', 'lean', 'kayaking', 'hoops', 'homeless', 'helps', 'float', 'cone', 'caught', 'bouncing', 'barrier', 'balances', 'without', 'watched', 'wagon', 'tracks', 'tents', 'stump', 'stroller', 'string', 'streets', 'sooners', 'shown', 'screen', 'peace', 'mirror', 'laugh', 'landing', 'karate', 'hug', 'dune', 'driver', 'courtyard', 'coffee', 'clown', 'chest', 'biking', 'balloons', 'uses', 'tattoo', 'suspended', 'speed', 'rolls', 'redheaded', 'reach', 'range', 'motorcycles', 'hot', 'home', 'helping', 'frame', 'formal', 'fetching', 'eat', 'drum', 'direction', 'cut', 'climbers', 'cardboard', 'blurry', 'bear', 'barking', 'waterskiing', 'war', 'touching', 'spiderman', 'rubber', 'raised', 'put', 'practicing', 'plane', 'petting', 'mountainside', 'monkey', 'miami', 'medium', 'land', 'knit', 'kneels', 'kiss', 'jogging', 'jerseys', 'jean', 'heavy', 'headscarf', 'happily', 'frozen', 'flowered', 'dead', 'cyclists', 'crashing', 'but', 'blocks', 'bending', 'begins', 'asleep', 'arts', 'turning', 'training', 'tires', 'teenager', 'surrounding', 'sprayed', 'shoreline', 'puck', 'plain', 'pass', 'overalls', 'only', 'neon', 'mountaintop', 'leaving', 'indian', 'grinds', 'forward', 'dusk', 'dribbles', 'crosses', 'corn', 'coaster', 'cake', 'boxing', 'bend', 'balcony', 'attire', 'airplane', 'wrestlers', 'town', 'tackled', 'square', 'snowball', 'skirts', 'sized', 'see', 'rest', 'racquet', 'porch', 'policeman', 'photographer', 'patch', 'lots', 'lab', 'hugs', 'hills', 'grocery', 'father', 'fake', 'eye', 'curve', 'curb', 'comes', 'coach', 'boardwalk', 'bicyclists', '2', 'wrapped', 'working', 'valley', 'tricycle', 'themselves', 'tail', 'sumo', 'sport', 'smokes', 'sides', 'scuba', 'rests', 'pit', 'pine', 'officer', 'muzzles', 'kayaker', 'golf', 'friends', 'dives', 'disc', 'crouching', 'closed', 'ahead', 'action', 'warm', 'vehicles', 'towel', 'though', 'tattoos', 'swimmer', 'students', 'strip', 'spread', 'sculpture', 'ribbon', 'rainbow', 'part', 'moves', 'members', 'mat', 'jet', 'image', 'hike', 'groom', 'gathering', 'following', 'flips', 'first', 'crosswalk', 'cones', 'colors', 'cloudy', 'cheerleaders', 'candles', 'barrel', 'almost', 'woodland', 'wine', 'vests', 'turns', 'topless', 'time', 'tiger', 'surfers', 'spraying', 'speaking', 'soda', 'silhouette', 'sharp', 'scarves', 'sandals', 'patio', 'passes', 'obama', 'move', 'lift', 'leads', 'leading', 'lay', 'kisses', 'kiddie', 'inline', 'free', 'fans', 'fancy', 'enjoy', 'eastern', 'dust', 'drums', 'class', 'chews', 'cave', 'tutu', 'turned', 'touches', 'tables', 'swan', 'sprinklers', 'sofa', 'sleeps', 'skinned', 'shower', 'shoot', 'seats', 'scaling', 'rollerblader', 'protest', 'place', 'pirate', 'peak', 'palm', 'marching', 'living', 'listening', 'itself', 'item', 'herself', 'help', 'happy', 'grab', 'foam', 'embrace', 'crosscountry', 'crawls', 'church', 'cheek', 'center', 'catcher', 'carry', 'blow', 'beam', 'banner', 'apron', 'also', 'what', 'walls', 'various', 'type', 'thumbs', 'tackling', 'sword', 'stomach', 'stares', 'snowsuit', 'skull', 'shaped', 'rug', 'ridden', 'rafting', 'protective', 'played', 'pitcher', 'pitbull', 'motion', 'licks', 'leashes', 'innertube', 'huddle', 'foggy', 'farm', 'cover', 'circle', 'chinese', 'chased', 'case', 'carriage', 'brush', 'birthday', 'benches', 'beads', 'agility', '5', 'you', 'workers', 'work', 'tulips', 'thin', 'skinny', 'sings', 'single', 'sideways', 'ship', 'sheet', 'rows', 'retrieving', 'raising', 'railroad', 'pouring', 'picking', 'pajamas', 'pair', 'oklahoma', 'neighborhood', 'natural', 'musicians', 'money', 'markings', 'knee', 'japanese', 'icy', 'how', 'hallway', 'geese', 'fun', 'followed', 'flock', 'floats', 'feeding', 'device', 'desk', 'compete', 'cafe', 'boxer', 'bowling', 'boulder', 'boogie', 'bare', 'alley', 'worker', 'wind', 'wheels', 'well', 'teammate', 'teal', 'swimsuits', 'stuck', 'silly', 'shade', 'sets', 'scales', 'runners', 'print', 'post', 'photographs', 'partially', 'not', 'new', 'narrow', 'mostly', 'merrygoround', 'longhaired', 'lips', 'lifts', 'lead', 'lands', 'headfirst', 'hardhat', 'guard', 'glove', 'gallery', 'fruit', 'foliage', 'fishes', 'figure', 'fabric', 'emerges', 'eight', 'doberman', 'crawling', 'concert', 'cheerleader', 'chalk', 'camels', 'camel', 'brunette', 'bounds', 'bounce', 'bleachers', 'beneath', 'bends', 'barren', 'attempt', 'athlete', '8', '3', 'van', 'treat', 'traveling', 'tops', 'teen', 'stripes', 'starting', 'speaks', 'so', 'snowcapped', 'sniffs', 'sneakers', 'slightly', 'shoe', 'sheer', 'sail', 'robe', 'rear', 'racers', 'plaza', 'plant', 'pitch', 'participate', 'pale', 'officers', 'monument', 'meadow', 'males', 'jockeys', 'i', 'houses', 'hood', 'hard', 'grabs', 'floral', 'flops', 'flipping', 'females', 'drive', 'distant', 'deer', 'daughter', 'country', 'chew', 'casting', 'caps', 'cape', 'buckets', 'breaking', 'been', 'bathroom', 'autumn', 'athletic', 'amidst', 'aged', '4', 'whistle', 'wakeboarding', 'wakeboard', 'tossing', 'tied', 'straight', 'stool', 'stairway', 'stair', 'spins', 'speeds', 'space', 'sledding', 'skyline', 'shovel', 'shaved', 'second', 'roof', 'robes', 'retrieves', 'relaxing', 'position', 'point', 'playpen', 'pillow', 'pet', 'opponent', 'musical', 'murky', 'midst', 'masks', 'marked', 'luggage', 'leafy', 'jewelry', 'instrument', 'infant', 'helmeted', 'grabbing', 'gentleman', 'fireworks', 'festival', 'elephant', 'electric', 'driveway', 'crying', 'crouched', 'crossed', 'crane', 'control', 'chocolate', 'candy', 'campfire', 'business', 'bush', 'broken', 'branches', 'bow', 'boarding', 'binoculars', 'bikinis', 'beagle', 'bay', 'bathtub', 'bath', 'arena', 'arcade', 'approaching', 'appear', 'advertisement', 'weather', 'waist', 'visible', 'uphill', 'tugging', 'tripod', 'tricolored', 'traditional', 'touch', 'toddlers', 'tag', 'suv', 'stretching', 'strange', 'stops', 'still', 'stars', 'sparklers', 'sleeved', 'shoveling', 'scenic', 'rowboat', 'rollerskating', 'reflection', 'read', 'push', 'ponytail', 'pigtails', 'photographed', 'pacifier', 'opens', 'numbered', 'navy', 'mural', 'multiple', 'meal', 'logs', 'link', 'lines', 'knees', 'kites', 'khaki', 'kayaks', 'jumper', 'jockey', 'jack', 'intersection', 'human', 'horseback', 'horizon', 'fountains', 'follow', 'flat', 'flames', 'either', 'dusty', 'dreadlocks', 'diver', 'digs', 'countryside', 'club', 'cloud', 'cage', 'buried', 'booth', 'artist', 'advertising', 'wild', 'wig', 'wheeled', 'waterskier', 'upsidedown', 'uniformed', 'tv', 'tub', 'trotting', 'tosses', 'toilet', 'swords', 'swimmers', 'sweaters', 'stretches', 'spot', 'soft', 'snowmobile', 'slip', 'silhouetted', 'ridge', 'pushed', 'poster', 'poodles', 'polka', 'pointed', 'performer', 'paw', 'oriental', 'opening', 'nighttime', 'museum', 'motorcyclists', 'mall', 'lounge', 'lighting', 'lane', 'jogs', 'individuals', 'identical', 'hikes', 'hiding', 'handlebars', 'growling', 'gliding', 'gestures', 'floaties', 'fisherman', 'firetruck', 'far', 'excited', 'enclosed', 'drawing', 'doors', 'dimly', 'descending', 'cows', 'covers', 'checkered', 'cast', 'cards', 'camping', 'cameras', 'balance', 'attack', 'approaches', 'apple', 'aerial', 'wheeler', 'weeds', 'was', 'wand', 'wades', 'vendor', 'underwear', 'umbrellas', 'tropical', 'trashcan', 'trainer', 'tiny', 'tight', 'tattooed', 'summer', 'stare', 'squirted', 'soaked', 'snowboarders', 'skimpy', 'sing', 'shoots', 'selling', 'rings', 'ribbons', 'relaxes', 'reflective', 'ran', 'rally', 'railings', 'power', 'pony', 'picks', 'pick', 'pen', 'pedestrians', 'pathway', 'parka', 'paints', 'office', 'multicolor', 'mom', 'member', 'marker', 'laptop', 'items', 'hut', 'helicopter', 'hardwood', 'handles', 'graffitied', 'goat', 'fuzzy', 'flute', 'feather', 'fan', 'dropping', 'dribbling', 'dot', 'dancer', 'crown', 'cooking', 'colourful', 'collars', 'clapping', 'chicken', 'carts', 'canoes', 'burning', 'bungee', 'brother', 'belly', 'bee', 'batman', 'barn', 'barks', 'babies', 'army', 'works', 'windows', 'wakeboarder', 'wade', 'tricycles', 'tights', 'sunlight', 'style', 'studio', 'stretched', 'stretch', 'star', 'sprays', 'sporting', 'snake', 'skies', 'skateboarders', 'similar', 'seaweed', 'seagulls', 'sat', 'posts', 'pitching', 'peeks', 'parasailing', 'pan', 'own', 'overhead', 'observes', 'native', 'mess', 'limb', 'leotard', 'leashed', 'kicked', 'injured', 'including', 'incline', 'husky', 'hurdles', 'heavily', 'headdress', 'handle', 'halloween', 'footballer', 'folding', 'flowery', 'floppy', 'fireplace', 'fellow', 'facial', 'elaborate', 'drag', 'dive', 'dish', 'descends', 'cushion', 'costumed', 'container', 'come', 'choppy', 'cheer', 'casts', 'cannon', 'calm', 'bunny', 'bundled', 'bridesmaids', 'bread', 'bounding', 'bouncy', 'bottles', 'blocking', 'beverage', 'bearing', 'youth', 'within', 'windsurfer', 'whist', 'watercraft', 'warmly', 'vertical', 'university', 'uncut', 'tuxedos', 'turquoise', 'tugofwar', 'trophy', 'tile', 'tightrope', 'things', 'target', 'strollers', 'stove', 'storm', 'sprints', 'sort', 'son', 'snowboards', 'singer', 'sidelines', 'shops', 'shed', 'share', 'score', 'saying', 'roll', 'returns', 'religious', 'quarterback', 'punching', 'pumpkins', 'progress', 'practices', 'pours', 'pot', 'pizza', 'photos', 'pauses', 'parallel', 'papers', 'owners', 'overlooks', 'operating', 'offroad', 'noses', 'nice', 'nap', 'mug', 'mouse', 'marathon', 'mans', 'love', 'logo', 'lifting', 'lifted', 'library', 'lacrosse', 'hydrant', 'hospital', 'heels', 'harnesses', 'great', 'give', 'garage', 'furniture', 'flannel', 'firing', 'fat', 'examine', 'everywhere', 'european', 'ends', 'electronic', 'driven', 'darkened', 'dangling', 'college', 'clowns', 'chickens', 'cheering', 'checking', 'cats', 'carried', 'carpeted', 'canyon', 'cans', 'canal', 'boxes', 'bottoms', 'bone', 'blurred', 'billboard', 'bigger', 'bent', 'belongings', 'backstroke', 'backpacker', 'attention', 'artificial', 'aqua', 'ambulance', 'accordion', 'yelling', 'yawning', 'trots', 'travels', 'trash', 'transportation', 'tractor', 'tourists', 'tossed', 'tiled', 'ticket', 'theater', 'television', 'telephone', 'tackles', 'suburban', 'strapped', 'stones', 'start', 'stall', 'st', 'squirting', 'squirrel', 'squatting', 'splits', 'socks', 'snowbank', 'sleeveless', 'sleeve', 'sleds', 'skiiers', 'skaters', 'sister', 'shirted', 'security', 'scenery', 'sailboat', 'rolled', 'rocket', 'robot', 'retrieve', 'ramps', 'raise', 'raincoat', 'rag', 'pug', 'pretending', 'practice', 'potato', 'popping', 'polo', 'plates', 'plank', 'placed', 'pinata', 'piano', 'performance', 'peers', 'peeking', 'patterned', 'participating', 'parents', 'pads', 'padded', 'pad', 'overpass', 'official', 'obstacles', 'numbers', 'mustache', 'muscular', 'movie', 'mountainous', 'mobile', 'meet', 'marble', 'magazines', 'lower', 'leaf', 'launches', 'labrador', 'knife', 'jumpsuit', 'juice', 'juggling', 'joy', 'jogger', 'interesting', 'interacting', 'industrial', 'hound', 'horizontal', 'hilly', 'highway', 'herding', 'hall', 'gymnast', 'guns', 'guitars', 'guitarist', 'guarding', 'gown', 'glider', 'garbage', 'garb', 'frolics', 'forested', 'folded', 'fencing', 'extreme', 'extended', 'expression', 'evening', 'emerging', 'dragging', 'doll', 'directions', 'dinner', 'darkhaired', 'dandelion', 'dancers', 'cutout', 'cute', 'cups', 'crashes', 'color', 'cobblestone', 'cob', 'clad', 'chunk', 'chopsticks', 'checks', 'characters', 'celebrating', 'bulldog', 'broom', 'breed', 'bowls', 'bound', 'boston', 'border', 'books', 'boards', 'bicycler', 'belt', 'bears', 'beak', 'batter', 'ballet', 'bagpipes', 'badminton', 'backdrop', 'asphalt', 'asking', 'amongst', 'aiming', '6', 'zip', 'york', 'written', 'words', 'wheelbarrow', 'watermelon', 'village', 'use', 'unusual', 'tussle', 'tshirts', 'trumpet', 'trucks', 'trains', 'tracksuit', 'towed', 'too', 'telescope', 'teddy', 'tarp', 'tape', 'surprised', 'sucking', 'submerged', 'stripe', 'straps', 'stores', 'stepping', 'steering', 'statues', 'starts', 'starring', 'snack', 'skips', 'skeleton', 'shovels', 'sharing', 'serve', 'serious', 'seattle', 'seashore', 'sailing', 'sacks', 'rusty', 'romp', 'rod', 'residential', 'reflecting', 'rack', 'purses', 'pounces', 'potted', 'policemen', 'pokes', 'pets', 'performers', 'patches', 'passengers', 'paperwork', 'offcamera', 'ninja', 'newborn', 'musician', 'motor', 'monster', 'mini', 'milk', 'mid', 'medieval', 'marsh', 'maroon', 'marketplace', 'march', 'magazine', 'lush', 'located', 'listens', 'kitten', 'kilt', 'kayakers', 'hotel', 'horns', 'homemade', 'heart', 'headed', 'hawaiian', 'handing', 'gas', 'florida', 'flapping', 'fetches', 'feathers', 'feathered', 'fairy', 'exhibit', 'examining', 'escalator', 'enter', 'embracing', 'earrings', 'eagle', 'drummer', 'dried', 'dragon', 'domino', 'ditch', 'distorted', 'disk', 'darkskinned', 'dalmation', 'cycling', 'cutting', 'cries', 'creating', 'cowboys', 'couples', 'containing', 'coloring', 'clings', 'clearing', 'cleaning', 'claus', 'circuit', 'chip', 'chin', 'ceiling', 'cartwheel', 'campsite', 'camo', 'bucking', 'boxers', 'bounces', 'blocked', 'beanie', 'baseman', 'bagpipe', 'backlit', 'ascending', 'apples', 'amid', 'alike', 'africanamerican', 'act', 'writes', 'watery', 'wakeboards', 'vine', 'upward', 'unseen', 'twin', 'turkeys', 'trench', 'treads', 'tray', 'travel', 'trailing', 'toss', 'tongues', 'thumb', 'thick', 'test', 'ten', 'teens', 'teaching', 'tags', 'superman', 'stunts', 'struggle', 'striking', 'storefront', 'steers', 'squirt', 'spout', 'spoon', 'sponsored', 'speeding', 'speak', 'sparkler', 'somthing', 'soldier', 'soaring', 'soaking', 'smelling', 'slopes', 'sleeves', 'site', 'shephard', 'shades', 'seating', 'seagull', 'sale', 'sad', 'rival', 'resort', 'rescue', 'reddish', 'record', 'recently', 'really', 'rails', 'pumpkin', 'puffy', 'printed', 'priest', 'pretend', 'pop', 'pointy', 'playful', 'pieces', 'peaks', 'peach', 'pattern', 'participates', 'parasails', 'parasail', 'parachuting', 'pail', 'packed', 'overweight', 'overhang', 'outstreached', 'outcropping', 'order', 'observing', 'oar', 'motorbikes', 'mickey', 'melting', 'meeting', 'material', 'makeshift', 'machines', 'lipstick', 'lining', 'letters', 'league', 'lasso', 'kitty', 'juggles', 'jar', 'jagged', 'interact', 'hulahoops', 'hopping', 'hides', 'hello', 'hell', 'handbag', 'haircut', 'gymnastics', 'gymnasium', 'grins', 'good', 'gathers', 'galloping', 'french', 'framed', 'forehead', 'flaming', 'fist', 'firefighter', 'festive', 'fairground', 'eyed', 'expressions', 'evil', 'enclosure', 'elevator', 'droplets', 'dollar', 'digital', 'deflated', 'dachshund', 'crossbones', 'crash', 'corgi', 'cop', 'community', 'colorfully', 'clothed', 'cliffs', 'clean', 'cigarettes', 'chubby', 'checked', 'challenging', 'chainsaw', 'ceremony', 'castle', 'carving', 'carrier', 'canoeing', 'cable', 'buy', 'button', 'butt', 'bug', 'brownhaired', 'bridal', 'bouquet', 'bookstore', 'blowup', 'bitten', 'bin', 'beret', 'beginning', 'begging', 'batting', 'baskets', 'banners', 'bale', 'backpacking', 'awning', 'attacking', 'athletes', 'airport', 'wrestles', 'world', 'windsurfing', 'wilderness', 'whose', 'waterway', 'watermelons', 'waterfalls', 'used', 'union', 'twisting', 'twirling', 'tutus', 'tumbling', 'treelined', 'trails', 'tournament', 'tools', 'tool', 'themed', 'terriers', 'tee', 'teaches', 'tails', 'swans', 'swampy', 'surfboarder', 'summit', 'stuff', 'struggles', 'stripped', 'strings', 'strewn', 'strap', 'stoop', 'squirts', 'squats', 'spotlight', 'sparring', 'song', 'soars', 'snowman', 'smooth', 'slalom', 'skyscraper', 'sidecar', 'shrubs', 'shorthaired', 'shiny', 'shining', 'shines', 'series', 'sell', 'seesaw', 'seeds', 'screams', 'sails', 'saddle', 'rv', 'rubs', 'rottweiler', 'rocking', 'repels', 'rainy', 'rafts', 'quad', 'pyramid', 'profile', 'pretty', 'presentation', 'prepare', 'posters', 'portrait', 'pops', 'playhouse', 'pierced', 'perched', 'pelican', 'paintball', 'overlook', 'ollie', 'offering', 'numerous', 'newspapers', 'navigates', 'nature', 'much', 'moustache', 'mountaineer', 'motorized', 'mossy', 'morning', 'misty', 'midjump', 'midflight', 'michael', 'messy', 'mascot', 'map', 'maneuvers', 'lunges', 'lockers', 'location', 'liquid', 'lens', 'lamp', 'kangaroo', 'jesus', 'jackson', 'int', 'insect', 'individual', 'if', 'hooping', 'hear', 'harbor', 'hamburgers', 'halter', 'hairy', 'greenhouse', 'greenery', 'graduation', 'goose', 'goofy', 'gondola', 'goats', 'gnawing', 'glides', 'glacier', 'gesture', 'genocide', 'gazing', 'gazes', 'frying', 'fourwheeler', 'formations', 'formally', 'form', 'footballers', 'fog', 'flipped', 'flaps', 'fireman', 'finish', 'filling', 'fields', 'ferry', 'fencers', 'fencedin', 'feeds', 'fashioned', 'eyebrows', 'except', 'entrance', 'easter', 'earring', 'earphones', 'dunking', 'dunes', 'dumps', 'drenched', 'drain', 'dolphins', 'dolphin', 'dj', 'diner', 'dim', 'diaper', 'defending', 'curtain', 'crowds', 'creature', 'craft', 'cords', 'conversation', 'contest', 'confetti', 'computers', 'complete', 'collide', 'circular', 'cheers', 'cheeks', 'check', 'change', 'cellphones', 'celebrate', 'caution', 'cartwheels', 'carefully', 'card', 'canvas', 'canopy', 'camp', 'cameraman', 'camcorder', 'called', 'calf', 'butterfly', 'bumpy', 'built', 'buggy', 'breaks', 'braids', 'bracelet', 'bowler', 'booths', 'blindfolded', 'blackandwhite', 'bib', 'beyond', 'battle', 'bathrobe', 'bark', 'backward', 'armenian', 'apartment', 'apart', 'zoo', 'wrapping', 'woven', 'worn', 'wires', 'windsurfs', 'winds', 'winding', 'wicker', 'whom', 'whitewater', 'when', 'waterski', 'watering', 'waterfront', 'washington', 'waiter', 'viewer', 'victory', 'vault', 'upturned', 'upset', 'upraised', 'upper', 'upon', 'unique', 'unhappy', 'unfinished', 'underground', 'twilight', 'trip', 'traverses', 'tips', 'tinkerbell', 'ties', 'tiara', 'threw', 'threewheeled', 'than', 'tethered', 'teacher', 'suspenders', 'surfboards', 'support', 'sunshade', 'sundress', 'structures', 'strips', 'strike', 'streaks', 'strawberry', 'stopped', 'stools', 'squeezing', 'spring', 'split', 'spiky', 'speedo', 'special', 'sound', 'somersault', 'somebody', 'snowing', 'snarling', 'snap', 'sling', 'sledge', 'size', 'signal', 'sheltie', 'shelter', 'sheets', 'shawl', 'shadows', 'sewing', 'sells', 'self', 'seal', 'scruffy', 'screaming', 'scratching', 'scratches', 'scooters', 'scary', 'scantily', 'saxophone', 'sash', 'sailor', 'saber', 'runway', 'rubbing', 'rounds', 'roadway', 'ridding', 'return', 'relax', 'refrigerator', 'redhaired', 'reception', 'real', 'rabbit', 'pursued', 'punk', 'punches', 'pumps', 'pulley', 'pugs', 'protection', 'products', 'product', 'pro', 'prey', 'presents', 'powder', 'possession', 'posed', 'pooh', 'poking', 'podium', 'plushie', 'plush', 'placing', 'pitches', 'pirates', 'pillar', 'piggy', 'pig', 'piercing', 'photographers', 'period', 'pedestrian', 'peanut', 'paying', 'pasture', 'pasta', 'partly', 'parlor', 'parent', 'parachutes', 'pairs', 'paintings', 'pain', 'oversized', 'overcoat', 'ornate', 'offers', 'observed', 'observe', 'objects', 'nude', 'necklaces', 'nearly', 'nails', 'more', 'moon', 'monitor', 'moment', 'modern', 'model', 'mittens', 'mitt', 'mist', 'misses', 'miniature', 'milkshake', 'mexican', 'merchandise', 'medals', 'mean', 'mats', 'massive', 'massage', 'marx', 'maneuver', 'main', 'lunch', 'loading', 'litter', 'lip', 'lion', 'limousine', 'lime', 'lightcolored', 'legos', 'leggings', 'legged', 'lease', 'learning', 'leafless', 'lanterns', 'lambs', 'laid', 'kneel', 'kind', 'keeps', 'keep', 'jog', 'jetty', 'jeeps', 'jacked', 'island', 'irish', 'interviews', 'interested', 'intently', 'instructor', 'inspecting', 'inground', 'inflated', 'incoming', 'igloo', 'huddled', 'hovering', 'hopscotch', 'hops', 'hiviz', 'hips', 'higher', 'herd', 'height', 'headset', 'heading', 'hawk', 'harnessed', 'handgun', 'handed', 'halfpipe', 'had', 'gymnastic', 'guiding', 'guide', 'guards', 'groomsmen', 'geyser', 'gated', 'games', 'frog', 'freshly', 'frames', 'footprints', 'focus', 'flowing', 'floors', 'films', 'fell', 'fashion', 'extends', 'explosion', 'exercise', 'equestrian', 'engine', 'elegant', 'eggs', 'earth', 'dyed', 'dunks', 'drops', 'drilling', 'downtown', 'double', 'dots', 'docked', 'displays', 'displaying', 'dining', 'devil', 'derby', 'defenders', 'decorative', 'dalmatian', 'dad', 'cutouts', 'current', 'croquet', 'crocodile', 'cowgirl', 'coverings', 'corndogs', 'cookie', 'conversing', 'converse', 'connected', 'congregate', 'concerned', 'combat', 'columns', 'column', 'collared', 'coal', 'closes', 'closely', 'clinging', 'clears', 'classic', 'cigars', 'chess', 'cheerleading', 'chatting', 'chairlift', 'chains', 'casual', 'carring', 'capes', 'cane', 'candle', 'campus', 'butter', 'bulls', 'british', 'bringing', 'brindle', 'bricks', 'breeds', 'breath', 'bowtie', 'bows', 'bodyboard', 'boarder', 'boa', 'bluff', 'bit', 'biplane', 'beers', 'bedroom', 'becomes', 'beaded', 'batsman', 'bales', 'award', 'avoid', 'atm', 'artists', 'arch', 'ankle', 'angels', 'alleyway', 'aims', 'aid', 'afternoon', 'adjusting', 'active', 'acting', 'acrobatic', 'abandoned', '23', 'zigzag', 'yoga', 'wristbands', 'workout', 'wipes', 'wintry', 'winnie', 'winner', 'will', 'wildflowers', 'wigs', 'wielding', 'whispering', 'whales', 'wetsuits', 'we', 'waterskis', 'waterskies', 'waterside', 'washing', 'washes', 'walker', 'walked', 'vuitton', 'videotaped', 'vending', 'velvet', 'veil', 'vegetation', 'vaulting', 'us', 'upwards', 'uno', 'unknown', 'united', 'unison', 'twirls', 'tuxedo', 'turtle', 'turbans', 'tugowar', 'trim', 'trailer', 'touched', 'torn', 'toilets', 'toe', 'toboggan', 'times', 'tilted', 'tide', 'those', 'theme', 'terrace', 'teammates', 'tea', 'taxi', 'tap', 'tagged', 'tabby', 'swung', 'swoops', 'sweatshirts', 'surround', 'supplies', 'sunrise', 'sundown', 'suitcase', 'suds', 'struggling', 'stripy', 'streamers', 'streaked', 'steer', 'steel', 'steam', 'stay', 'states', 'standard', 'stained', 'stack', 'squat', 'spreads', 'spreading', 'sponge', 'spiral', 'spiked', 'spigot', 'sparks', 'sparkling', 'spar', 'spaniel', 'sooner', 'socializing', 'soap', 'snows', 'snowmobiles', 'sniff', 'smartly', 'slipper', 'sleigh', 'slacks', 'skipping', 'skatepark', 'sizes', 'siting', 'sink', 'shrine', 'shots', 'shoppers', 'sheepdog', 'shapes', 'shallows', 'shady', 'shaded', 'serving', 'sequined', 'seems', 'searching', 'scrambling', 'scottish', 'saris', 'salon', 'russell', 'rushing', 'rushes', 'rundown', 'ruins', 'rowers', 'routine', 'route', 'rounding', 'rooftop', 'rollerskates', 'roadside', 'riverbank', 'rises', 'rifles', 'rifle', 'returning', 'retreiver', 'repelling', 'register', 'reeds', 'records', 'recording', 'receives', 'reached', 'ravine', 'rafters', 'raceway', 'quilt', 'puppet', 'puddles', 'protesters', 'props', 'propped', 'produce', 'prizes', 'prize', 'pretends', 'presses', 'praying', 'pouncing', 'portable', 'popsicle', 'political', 'poised', 'places', 'pinned', 'pillows', 'piles', 'piled', 'piggyback', 'pickup', 'picket', 'pharmacy', 'peering', 'peaking', 'patiently', 'passed', 'parklike', 'parasailer', 'paraglider', 'pajama', 'overturned', 'opponents', 'onehanded', 'ollies', 'ok', 'odd', 'obscured', 'o', 'nurses', 'notes', 'note', 'noodle', 'nips', 'nine', 'nike', 'nightclub', 'newly', 'needle', 'nears', 'navigating', 'n', 'mouthed', 'most', 'monk', 'mixing', 'missing', 'middleaged', 'mets', 'meter', 'mesh', 'merry', 'mechanical', 'master', 'masked', 'marks', 'markers', 'mark', 'marches', 'manicured', 'lounging', 'louis', 'looked', 'longnecked', 'lollipop', 'local', 'lobby', 'littered', 'lioness', 'limo', 'lie', 'liberty', 'letter', 'led', 'leave', 'layup', 'launch', 'laptops', 'lack', 'jug', 'join', 'involving', 'incense', 'impeach', 'icicle', 'huts', 'huskies', 'hung', 'hummingbird', 'hulahoop', 'hugged', 'howling', 'hovers', 'horseshoes', 'hopper', 'hip', 'heron', 'hammer', 'hairstyle', 'grown', 'groups', 'groucho', 'grinning', 'greet', 'greenish', 'grayhaired', 'graffiticovered', 'gowns', 'goatee', 'goalkeeper', 'gloved', 'gigolo', 'gift', 'gesturing', 'garter', 'frowning', 'frisbees', 'fresh', 'flyer', 'flowering', 'floored', 'flooded', 'floatation', 'flings', 'fleece', 'fit', 'film', 'file', 'figures', 'fights', 'fences', 'feild', 'feed', 'faucet', 'fatigues', 'faded', 'facepaint', 'exercises', 'executes', 'entering', 'engage', 'embraces', 'embankment', 'elevation', 'elephants', 'electrical', 'elder', 'ejected', 'einstein', 'early', 'dumpster', 'dummy', 'drift', 'dramatically', 'dragged', 'donkeys', 'displayed', 'directs', 'directly', 'diners', 'dig', 'diapers', 'desks', 'depicting', 'department', 'demonstrating', 'defends', 'dandelions', 'cuts', 'curvy', 'curved', 'curled', 'curiously', 'curious', 'crystal', 'cry', 'crevasse', 'crate', 'cracker', 'cracked', 'crab', 'countertop', 'cotton', 'corridor', 'corners', 'conversations', 'controller', 'contents', 'condoms', 'completely', 'competitive', 'company', 'coaching', 'clover', 'climbed', 'clay', 'classroom', 'cigar', 'china', 'chef', 'chat', 'charging', 'chaps', 'chained', 'centipede', 'celebrates', 'causing', 'casino', 'cash', 'carying', 'cargo', 'canon', 'call', 'cabin', 'buses', 'burn', 'brushes', 'brothers', 'brooms', 'brings', 'brightlycolored', 'brides', 'boulders', 'bonnets', 'bodies', 'bluejeans', 'bluegreen', 'blindfolds', 'blankets', 'blacktop', 'billowing', 'bernard', 'belts', 'begin', 'bedspread', 'beauty', 'battling', 'battles', 'baton', 'barriers', 'barricade', 'baring', 'bares', 'barely', 'barefooted', 'bared', 'barbed', 'banks', 'bandaged', 'bananas', 'bamboo', 'ballerinas', 'balding', 'balck', 'balanced', 'awards', 'australian', 'auditorium', 'attractive', 'astride', 'assisting', 'assistance', 'ascends', 'artwork', 'arrow', 'archway', 'arched', 'arab', 'approach', 'ancient', 'alligator', 'alert', 'aim', 'advertisements', 'admiring', 'admires', 'admire', 'ad', 'acoustic', '13', '12', 'zombie', 'zara', 'youngsters', 'youn', 'yorkie', 'yawns', 'wrists', 'wrinkled', 'wrecked', 'wraps', 'wrap', 'wolf', 'wiping', 'winning', 'winks', 'winking', 'windy', 'wife', 'whit', 'wheelers', 'wheat', 'wharf', 'western', 'were', 'welllit', 'weird', 'web', 'wasteland', 'washed', 'waring', 'warehouse', 'waking', 'vw', 'visor', 'vintage', 'views', 'videotaping', 'vegetables', 'vast', 'varying', 'vacant', 'upright', 'umpire', 'ultimate', 'u', 'twig', 'tussling', 'turkey', 'turban', 'tunic', 'tugs', 'tugboat', 'tubing', 'treks', 'trekking', 'travelling', 'transit', 'trade', 'tower', 'tow', 'tourist', 'tour', 'touchdown', 'topped', 'toothbrush', 'tooth', 'toast', 'tired', 'tip', 'tiles', 'tickets', 'thumbsup', 'thorugh', 'thatched', 'tether', 'temple', 'tball', 'tattered', 'tangled', 'tandem', 'taller', 'tackler', 'syrup', 'symbol', 'swooping', 'sweat', 'sveral', 'supports', 'supporter', 'super', 'sunshine', 'sunsets', 'sunbathe', 'suited', 'sucks', 'substance', 'submerges', 'strolls', 'stroll', 'strikes', 'stride', 'streaming', 'strapless', 'straining', 'straddles', 'stony', 'stacks', 'squinting', 'squeeze', 'squares', 'sprinting', 'sprint', 'springs', 'spotters', 'spilled', 'spikes', 'spell', 'speech', 'speckled', 'specialized', 'speaker', 'sparse', 'spaghetti', 'sox', 'source', 'sorts', 'solitary', 'soldiers', 'smock', 'smeared', 'sloping', 'sloped', 'slam', 'slab', 'skydiving', 'skydivers', 'skin', 'skills', 'sippy', 'sipping', 'similarly', 'signing', 'sight', 'shrubbery', 'showering', 'shouting', 'shoeless', 'shocked', 'shipping', 'shine', 'shelves', 'shell', 'shelf', 'shake', 'shadowed', 'shack', 'setter', 'serves', 'served', 'segway', 'sees', 'seem', 'secured', 'search', 'scuffle', 'scrubby', 'scouts', 'scared', 'say', 'saxophones', 'sari', 'sandbox', 'sandal', 'samples', 'safely', 'safari', 'sack', 'rush', 'rugged', 'rubble', 'royal', 'rover', 'roughly', 'roses', 'rollerskater', 'rollercoaster', 'rollerbladers', 'rods', 'rodent', 'rocker', 'rockclimbing', 'rising', 'rise', 'ringing', 'revealing', 'retrievers', 'retaining', 'restaraunt', 'renaissance', 'removing', 'remote', 'reindeer', 'region', 'reflections', 'redbull', 'recorder', 'reacts', 'rappelling', 'railway', 'railed', 'raging', 'ragged', 'radio', 'raced', 'quietly', 'quarters', 'quarter', 'purchasing', 'purchase', 'punch', 'protesting', 'protects', 'protect', 'prom', 'prisoner', 'priests', 'pride', 'prevent', 'preteen', 'present', 'prancing', 'prairie', 'port', 'ponchos', 'polaris', 'poem', 'pocket', 'plains', 'pistol', 'pins', 'pigeon', 'phrase', 'photographing', 'phones', 'perspective', 'persons', 'personnel', 'penske', 'penguins', 'peek', 'pedals', 'pedaling', 'pedal', 'pebbles', 'pebble', 'peaceful', 'passerby', 'passenger', 'parrot', 'parachutist', 'paperback', 'panting', 'panel', 'paddled', 'packages', 'p', 'oxford', 'oxen', 'owl', 'overhanging', 'overgrown', 'otherwise', 'ornamental', 'ornament', 'oregon', 'oppose', 'opened', 'onward', 'olympics', 'offstage', 'officials', 'occupied', 'obedience', 'oars', 'nuzzling', 'nursing', 'nt', 'novelty', 'noodles', 'nipple', 'nibbling', 'nets', 'necked', 'name', 'muslim', 'musher', 'muscle', 'mr', 'mowed', 'mountaineers', 'mounds', 'motorcross', 'motorboat', 'moped', 'mop', 'mock', 'mixed', 'mix', 'missed', 'minivan', 'mingling', 'mingle', 'mime', 'microphones', 'messily', 'messenger', 'menus', 'menu', 'memorial', 'melted', 'meat', 'mattress', 'matador', 'married', 'marking', 'marina', 'mardi', 'mannequins', 'mambo', 'loose', 'lolly', 'lodge', 'locking', 'locked', 'lobster', 'loaded', 'llama', 'lizards', 'livestock', 'lighthouse', 'licked', 'lemonade', 'lecture', 'learn', 'leapfrog', 'leaped', 'leaned', 'leafs', 'law', 'lavender', 'laundry', 'late', 'lassie', 'laps', 'language', 'landed', 'lagoon', 'laden', 'labs', 'labradoodle', 'labeled', 'kissed', 'kimonos', 'kimono', 'kicker', 'keyboard', 'kennel', 'keeping', 'junk', 'jukebox', 'judge', 'iron', 'ipod', 'investigate', 'interviewed', 'intertube', 'interracial', 'intense', 'inspects', 'ink', 'india', 'images', 'ignoring', 'identically', 'iced', 'hurrying', 'hundreds', 'hunched', 'humping', 'hummer', 'housing', 'horseshoe', 'horn', 'hopes', 'hooking', 'hollywood', 'highland', 'hide', 'hi', 'herds', 'henna', 'hearts', 'heard', 'headscarfs', 'headlights', 'happening', 'handicapped', 'halfway', 'gyro', 'gull', 'guided', 'growls', 'groceries', 'grin', 'grilling', 'grazes', 'grasses', 'grasps', 'grasp', 'gras', 'goth', 'got', 'god', 'gocart', 'gaze', 'gates', 'gap', 'fully', 'frolicking', 'frolic', 'fries', 'fort', 'forefront', 'foothills', 'foamy', 'flung', 'flooring', 'flinging', 'flamboyant', 'flailing', 'fixing', 'fires', 'firemen', 'firefighters', 'finished', 'fingerpaints', 'find', 'filmed', 'fill', 'fighters', 'fighter', 'fiery', 'fedora', 'fed', 'feature', 'favorite', 'farmers', 'fangs', 'falcon', 'facility', 'extremely', 'extravagant', 'expanse', 'exiting', 'exhaust', 'examines', 'everyone', 'ethnic', 'establishment', 'escape', 'environment', 'engulfed', 'engaged', 'energizer', 'encouraging', 'emitting', 'else', 'elevated', 'electronics', 'egret', 'effort', 'easel', 'earpiece', 'dye', 'dunk', 'dumbbell', 'dug', 'drivers', 'drill', 'dresser', 'drawn', 'draw', 'drapped', 'draped', 'dragsters', 'draft', 'downward', 'dove', 'donut', 'donkey', 'done', 'dome', 'dogsled', 'doghouse', 'dodges', 'dinosaur', 'dinghy', 'devices', 'determined', 'desolate', 'descent', 'demonstration', 'demonstrates', 'defensive', 'decorations', 'decoration', 'dc', 'daytime', 'dane', 'dancefloor', 'damaged', 'dalmatians', 'cycle', 'customer', 'crumbling', 'crouch', 'crocs', 'cricketer', 'crib', 'crevice', 'crests', 'created', 'crank', 'cramped', 'crack', 'cots', 'cord', 'copper', 'cooling', 'cooks', 'cookies', 'cook', 'contraption', 'confused', 'conference', 'completing', 'completes', 'competitor', 'comic', 'colliding', 'collects', 'collection', 'colander', 'cobbled', 'coastline', 'clutching', 'cluster', 'closing', 'cliffside', 'clause', 'claps', 'clap', 'churning', 'chops', 'chili', 'chested', 'cheered', 'chats', 'chalkboard', 'casually', 'carves', 'carved', 'carton', 'carousel', 'care', 'cardigan', 'captured', 'campground', 'camper', 'cam', 'buying', 'bushy', 'burlap', 'burgundy', 'bunk', 'build', 'buddha', 'browses', 'brownish', 'breeze', 'bra', 'bout', 'boundary', 'bounced', 'boot', 'bmw', 'blues', 'blossoms', 'blossoming', 'blood', 'blondhaired', 'blondehaired', 'blazing', 'bills', 'billboards', 'bill', 'beverages', 'beds', 'because', 'beating', 'beat', 'beachgoers', 'bats', 'bathe', 'basset', 'bass', 'basketballs', 'bases', 'basement', 'barrels', 'barechested', 'barber', 'bands', 'bandage', 'ballplayer', 'badge', 'backtoback', 'backgroud', 'backed', 'awkwardly', 'awaiting', 'atvs', 'attraction', 'assist', 'armbands', 'arabian', 'aquarium', 'applying', 'applies', 'apparatus', 'angle', 'amused', 'amish', 'aisle', 'ages', 'afro', 'africans', 'afghan', 'adorned', 'activity', 'accompanied', 'abseiling', '7', '4wheeler', '28', '25', '19', 'zooming', 'youths', 'youngster', 'yorkshire', 'yong', 'yells', 'yell', 'yankee', 'x', 'wristwatch', 'worried', 'workshop', 'wool', 'won', 'wolflike', 'wiped', 'wintery', 'wintertime', 'windowsill', 'windmill', 'wildly', 'wiener', 'wicket', 'whitehaired', 'whitebearded', 'whisper', 'whips', 'whipping', 'whiel', 'whack', 'wets', 'west', 'wellkept', 'welldressed', 'weimaraner', 'weights', 'wed', 'website', 'weaving', 'weaves', 'weathered', 'ways', 'wavy', 'waterwings', 'wands', 'walmart', 'wallride', 'walkers', 'wake', 'waitress', 'waists', 'waders', 'viz', 'vista', 'visitors', 'viewing', 'vie', 'videotapes', 'victorian', 'veteran', 'vessel', 'vert', 'versus', 'vegas', 'vaults', 'varied', 'vampire', 'v', 'uw', 'utensils', 'urinating', 'unpaved', 'unmanned', 'underside', 'undershirt', 'uncrowded', 'un', 'uggs', 'tying', 'twopiece', 'twisted', 'twirl', 'twigs', 'tuxes', 'turf', 'tumbleweed', 'tumbles', 'tubular', 'tubes', 'trousers', 'trot', 'trooper', 'trimmed', 'trike', 'tried', 'tribal', 'triangular', 'triangle', 'trials', 'trek', 'treefilled', 'treecovered', 'treats', 'treated', 'treading', 'trays', 'traversing', 'traverse', 'trapped', 'transparent', 'tram', 'toyota', 'towing', 'towers', 'towels', 'totter', 'tote', 'tortoise', 'torso', 'topples', 'tophats', 'toolbox', 'took', 'toetouch', 'toes', 'tipped', 'timeout', 'tilts', 'tightly', 'throught', 'thriller', 'threatening', 'thinking', 'thing', 'thermos', 'texting', 'terminal', 'tentlike', 'tented', 'tend', 'teeter', 'teeshirt', 'technical', 'tears', 'teach', 'taught', 'tatoos', 'tatooed', 'tartan', 'taping', 'tantrum', 'tanned', 'tambourines', 'takedown', 'tablet', 'system', 'synchronized', 'swordsman', 'swimwear', 'swimmies', 'swerves', 'sweatsuit', 'sweats', 'sweatband', 'swam', 'surrounds', 'surgical', 'surfboarding', 'supporting', 'supported', 'sunlit', 'sunflowers', 'sunbathers', 'subject', 'stuntman', 'stunning', 'stumps', 'studies', 'student', 'studded', 'stubby', 'struck', 'strong', 'stringed', 'stretcher', 'streamer', 'straddling', 'straddle', 'story', 'storefronts', 'stopping', 'stoops', 'stood', 'stomachs', 'stocking', 'stirs', 'stiped', 'stepped', 'steered', 'steal', 'steady', 'steadies', 'statute', 'state', 'startled', 'starshaped', 'starbucks', 'stance', 'stalks', 'stains', 'staffordshire', 'staff', 'stabs', 'squints', 'squeezes', 'squad', 'sprawled', 'spouts', 'sportswear', 'sportsfield', 'spool', 'spitting', 'spits', 'spin', 'spike', 'spelunkers', 'speedos', 'speedboat', 'sparsely', 'sparrow', 'spanish', 'spandex', 'soup', 'sombrero', 'sombody', 'soled', 'sole', 'soil', 'soggy', 'snuggling', 'snuggles', 'snowstorm', 'snowmobiling', 'snowmobiler', 'snowfield', 'snowed', 'snorkel', 'snoopy', 'sniffed', 'snarls', 'snapping', 'smu', 'smirks', 'smilling', 'smell', 'smear', 'slouching', 'slippery', 'slippers', 'slinky', 'slinging', 'slicker', 'slices', 'slice', 'slender', 'sleek', 'sledder', 'skyward', 'skyscrapers', 'skydiver', 'skins', 'skids', 'sites', 'sips', 'sip', 'sinks', 'sinking', 'simpsons', 'silk', 'signals', 'sightseeing', 'sideline', 'shutters', 'showgirls', 'showgirl', 'showerhead', 'shorter', 'shit', 'shiner', 'shielding', 'sheppard', 'sheperd', 'sheltered', 'shawls', 'shamrocks', 'shaft', 'sexy', 'setup', 'session', 'sequins', 'separate', 'senior', 'sending', 'section', 'scrubland', 'scrubbing', 'scrimmage', 'scramble', 'scoring', 'scoop', 'schoolgirls', 'schoolchildren', 'scarfs', 'saw', 'save', 'saturated', 'satchel', 'sashes', 'sandpit', 'san', 'samsung', 'salvar', 'salmon', 'sailboats', 'sailboard', 'rummaging', 'rugs', 'roughhousing', 'rotweiler', 'rose', 'roping', 'root', 'roman', 'rollerblade', 'rockstar', 'ritz', 'rite', 'ripping', 'ringed', 'rimmed', 'rickety', 'rice', 'reviewing', 'retrieved', 'retail', 'restaurants', 'removes', 'released', 'regalia', 'refuse', 'refreshment', 'referees', 'ref', 'reenactment', 'recreational', 'recreation', 'recoils', 'reclining', 'reclines', 'recliner', 'recieving', 'receiving', 'receive', 'rears', 'readying', 'rays', 'rappels', 'rapidly', 'ralley', 'raining', 'rafter', 'quilted', 'quiet', 'queen', 'quarterpipe', 'pyrotechnics', 'pyramidshaped', 'pylon', 'puzzled', 'pursuing', 'pups', 'punting', 'punctured', 'pump', 'puma', 'puffs', 'puff', 'pudding', 'puckering', 'protester', 'protectors', 'propping', 'propelled', 'propel', 'process', 'princess', 'presidential', 'prepared', 'pregnant', 'precariously', 'prayer', 'prances', 'powered', 'poured', 'pour', 'pouch', 'pots', 'possibly', 'possible', 'possessions', 'portland', 'portion', 'portapotties', 'populated', 'poor', 'poolside', 'ponytails', 'ponytailed', 'pong', 'pompoms', 'polkadotted', 'poling', 'policewoman', 'pokemon', 'pointer', 'pockets', 'plugging', 'plow', 'playgroud', 'planeta', 'placid', 'pitchers', 'piste', 'pinwheel', 'pinstripe', 'pilots', 'piloting', 'pilot', 'piglet', 'piercings', 'photography', 'peterson', 'petals', 'perpendicular', 'permed', 'perhaps', 'perches', 'peoples', 'penzance', 'pensive', 'pencil', 'pelicans', 'peer', 'peeing', 'pedestal', 'pearls', 'pawing', 'patrons', 'patrick', 'patchy', 'pastry', 'partying', 'partner', 'participant', 'parasurfer', 'parasailors', 'para', 'paneled', 'palying', 'paintbrush', 'pails', 'paddlers', 'package', 'overlooked', 'overcast', 'overall', 'outwards', 'outrun', 'outfitted', 'outcrop', 'our', 'ou', 'ornaments', 'onlooker', 'oncoming', 'once', 'olympic', 'oldfashioned', 'offroading', 'odeon', 'oddly', 'occasion', 'obscuring', 'nylon', 'nutcracker', 'nursery', 'notice', 'notebook', 'north', 'nipping', 'nicely', 'news', 'newlyweds', 'netted', 'nerf', 'need', 'necks', 'navigate', 'nascar', 'nadal', 'mustard', 'mustached', 'mushing', 'murals', 'multistory', 'mule', 'mulch', 'muffs', 'mp3', 'mown', 'mouthing', 'mouthguards', 'mountian', 'mounted', 'mountaintops', 'mottled', 'motorbiker', 'mosscovered', 'moss', 'moonwalk', 'monitors', 'mitten', 'mirrored', 'minimal', 'mills', 'mill', 'midswing', 'midleap', 'midget', 'middleeastern', 'mexico', 'metro', 'metallic', 'melts', 'medal', 'measured', 'meandering', 'mcdonalds', 'mate', 'mart', 'marshy', 'marquee', 'mantle', 'manner', 'mallard', 'madly', 'lunchbox', 'lump', 'lucky', 'loop', 'looming', 'lookalike', 'longsleeved', 'longsleeve', 'longhandled', 'lonely', 'logos', 'lock', 'loan', 'load', 'linked', 'limbs', 'lightup', 'lighter', 'lighted', 'lick', 'lets', 'length', 'least', 'learns', 'leafcovered', 'layer', 'lawnmower', 'lavish', 'launcher', 'launched', 'latte', 'las', 'ladles', 'ladle', 'know', 'knotted', 'knocks', 'knocked', 'knitted', 'kneehigh', 'kit', 'kisscostumed', 'kiosk', 'kickflip', 'kickboxing', 'keeper', 'kawasaki', 'kart', 'jumpsuits', 'juggle', 'judges', 'jr', 'jousting', 'joke', 'italy', 'israeli', 'israel', 'involved', 'investigates', 'inverted', 'interviewing', 'international', 'interior', 'intercept', 'innertubes', 'information', 'indians', 'indescript', 'incredible', 'includes', 'illustration', 'illuminated', 'ill', 'icing', 'husks', 'hunter', 'hump', 'humans', 'hosed', 'hooker', 'hook', 'hoodies', 'homes', 'homebase', 'holder', 'hoes', 'hods', 'hitter', 'historic', 'hissing', 'hilltop', 'highfives', 'highfive', 'hidden', 'hers', 'hero', 'helment', 'heavyset', 'headwraps', 'headwrap', 'headphone', 'headlong', 'headlamp', 'headdresses', 'headbands', 'hazmat', 'haystack', 'hate', 'harvested', 'harmonica', 'handrails', 'handling', 'handinhand', 'handicap', 'handheld', 'halves', 'halo', 'guides', 'guardrail', 'guarded', 'grove', 'grounded', 'grips', 'grimacing', 'grimaces', 'greyish', 'greets', 'greeting', 'graze', 'grayhound', 'grasping', 'grappling', 'grapple', 'graphic', 'grafitti', 'graffitifilled', 'gothic', 'gorgeous', 'googles', 'goods', 'goodbye', 'gonzaga', 'golfers', 'gokart', 'goaltender', 'gnaws', 'glowing', 'glow', 'glittery', 'glancing', 'glances', 'given', 'girder', 'giants', 'ghostbusters', 'gettin', 'gentlemen', 'genetic', 'gazebo', 'gay', 'gauges', 'garment', 'gardening', 'gallops', 'gal', 'gain', 'furnace', 'funeral', 'frosty', 'frosting', 'frolicks', 'fringe', 'frilly', 'frightened', 'freestyle', 'freak', 'fourwheeled', 'fourwheel', 'fours', 'found', 'forwards', 'formed', 'fork', 'forests', 'footbridge', 'focuses', 'foal', 'flows', 'florist', 'florescent', 'flopping', 'flop', 'flood', 'flippers', 'flipflops', 'flexing', 'flexible', 'flew', 'flees', 'flea', 'flashing', 'flash', 'fix', 'fists', 'fishermen', 'firehose', 'fireball', 'finley', 'finds', 'final', 'filming', 'fierce', 'ferris', 'ferns', 'feels', 'fedex', 'featuring', 'features', 'fathers', 'fashionably', 'farmland', 'farmer', 'fanny', 'fame', 'false', 'fairies', 'faced', 'eyeglasses', 'eyebrow', 'extinguish', 'exposing', 'exploring', 'exotic', 'exit', 'excitement', 'excitedly', 'evergreen', 'escorted', 'entitled', 'enthusiastically', 'entertain', 'entangled', 'enough', 'english', 'engaging', 'enforcement', 'energy', 'employees', 'elf', 'eleven', 'election', 'eldery', 'elbow', 'eastpak', 'earmuffs', 'dwelling', 'dusted', 'dumping', 'duke', 'duffel', 'drug', 'drooling', 'drifting', 'dressing', 'draws', 'drawings', 'drainage', 'drags', 'dozes', 'downwards', 'doughnut', 'doorstep', 'doorbell', 'donuts', 'donning', 'dolly', 'doggy', 'dodgeball', 'document', 'dobermans', 'divided', 'disheveled', 'disguises', 'discuss', 'dirtcovered', 'dirtbikes', 'dirtbikers', 'dips', 'dip', 'digger', 'diego', 'dew', 'designs', 'designed', 'design', 'descend', 'demolished', 'defend', 'debris', 'dear', 'david', 'daughters', 'daschund', 'darkness', 'darkly', 'darker', 'darkcolored', 'daring', 'daredevil', 'dappled', 'dangles', 'dangerous', 'dale', 'daisies', 'dads', 'dachshunds', 'cylinder', 'cycles', 'customers', 'curlyhaired', 'curls', 'curling', 'curl', 'crust', 'cruiser', 'cruise', 'crow', 'crosslegged', 'crooked', 'crocks', 'crew', 'crest', 'creates', 'crazy', 'crazily', 'crawl', 'crates', 'crag', 'crafts', 'couches', 'cot', 'corral', 'controls', 'controlling', 'continue', 'contemplates', 'containers', 'consumed', 'constructed', 'confronts', 'confrontation', 'conditions', 'concentration', 'concentrates', 'complex', 'companion', 'commuters', 'commercial', 'comforting', 'comfort', 'columned', 'colonial', 'collision', 'collecting', 'collected', 'collage', 'coldweather', 'cockpit', 'cobblestones', 'coasting', 'clutches', 'clump', 'cloudcovered', 'cloaks', 'cloak', 'clips', 'clipped', 'cleans', 'civil', 'chow', 'choke', 'choir', 'chips', 'chins', 'chief', 'chicago', 'chewed', 'chests', 'cherry', 'cheese', 'checkout', 'chart', 'character', 'changing', 'changes', 'chandelier', 'challenge', 'certificates', 'celebration', 'cbs', 'cattle', 'cattails', 'catholic', 'castles', 'cascading', 'cascades', 'cartoon', 'carolina', 'caravan', 'carabiner', 'capris', 'capri', 'cannot', 'cannonball', 'canned', 'canadian', 'canada', 'campaign', 'calico', 'bystanders', 'buzy', 'bust', 'bursting', 'burrowing', 'buoy', 'bundledup', 'bun', 'bumps', 'bump', 'bum', 'bullhorn', 'bullfighter', 'bullet', 'bulldogs', 'buffalo', 'buddist', 'buckled', 'bucked', 'brushland', 'brunettes', 'browse', 'brow', 'brook', 'brochure', 'broadway', 'broadly', 'brilliant', 'breathing', 'breasts', 'brass', 'brake', 'bracelets', 'bowed', 'bouncer', 'bottled', 'bookshelf', 'boogieboard', 'bongo', 'bonfire', 'bodysuit', 'boating', 'blur', 'blown', 'blower', 'blouse', 'bloom', 'bloody', 'blazer', 'bits', 'birdcage', 'binocular', 'bicycling', 'bicyclers', 'better', 'best', 'bellbottoms', 'bell', 'begs', 'beats', 'bearer', 'beams', 'bathrooms', 'bareback', 'barbwire', 'barack', 'banjo', 'bangs', 'baked', 'bagpipers', 'baggage', 'badges', 'backseat', 'backpackers', 'backless', 'backhand', 'backbends', 'axe', 'awnings', 'await', 'avrovulcancom', 'avoiding', 'automobiles', 'auto', 'attentively', 'attentive', 'attending', 'attacks', 'attacked', 'attaching', 'astroturf', 'asia', 'artsstyle', 'artistic', 'array', 'arrangement', 'arizona', 'architectural', 'approached', 'apparel', 'any', 'antlers', 'antique', 'antenna', 'ant', 'anime', 'angry', 'andy', 'amuseument', 'amplifier', 'amphitheater', 'amounts', 'amount', 'amnesty', 'americans', 'america', 'amazing', 'alter', 'alcohol', 'album', 'albert', 'airfilled', 'aimed', 'aig', 'aggressive', 'age', 'again', 'affectionately', 'aerodynamic', 'aerobics', 'adolescent', 'adjust', 'adhd', 'acrobatics', 'ace', 'accross', 'accident', 'accessories', 'accepts', 'accents', 'accented', 'ac', 'abandon', '84', '58', '52', '3rd', '281', '21', '11', '104', '1', 'zooms', 'zone', 'zombies', 'zipup', 'zips', 'zipping', 'zippered', 'zipline', 'zig', 'zepra', 'zebra', 'zchtv', 'zagging', 'zaftig', 'yuong', 'ypoung', 'youngle', 'yound', 'yougn', 'youg', 'yet', 'yerba', 'yellowsuited', 'yellows', 'yellowish', 'yellowgrassed', 'yellowgold', 'year', 'yarnlike', 'yarn', 'yankees', 'yamaha', 'yachts', 'yacht', 'xmen', 'wuth', 'write', 'wristband', 'wrist', 'wrinkley', 'wrings', 'wringing', 'wrestled', 'wrestilng', 'wrecks', 'wrangles', 'wrangle', 'wounds', 'wounded', 'would', 'worships', 'worshipping', 'worshippers', 'worm', 'worked', 'word', 'woooden', 'wooly', 'woolly', 'woolen', 'woody', 'woodstacked', 'woodlands', 'womand', 'wodden', 'woamn', 'wmoan', 'wizards', 'wizard', 'witnesses', 'withering', 'withered', 'withdrawing', 'witches', 'wispy', 'wisks', 'wishing', 'wisconsin', 'wipeout', 'wipe', 'winters', 'wintergear', 'winston', 'windsurfers', 'windsurf', 'windshield', 'windsailing', 'windowed', 'windbreaker', 'windboarder', 'windboard', 'winces', 'win', 'willow', 'williams', 'wildebeest', 'wildebeast', 'wilbert', 'wii', 'wiht', 'wiffle', 'wierd', 'wields', 'widows', 'widow', 'widespread', 'widely', 'widelegged', 'widebrimmed', 'whoa', 'whizzes', 'whitesuited', 'whites', 'whitemetal', 'whitefooted', 'whitecolored', 'whild', 'whil', 'whiffle', 'whie', 'wharfs', 'whacking', 'wetsuite', 'wetland', 'werewolf', 'went', 'wellmuscled', 'wellgroomed', 'welcomes', 'welcome', 'weirmeiner', 'weiner', 'weimeraners', 'weimaraners', 'weilding', 'weight', 'weeping', 'wedgie', 'weave', 'weating', 'weas', 'wearubg', 'wearhing', 'wearfing', 'wax', 'waterwear', 'waterspouts', 'waterspout', 'watersports', 'waterskiis', 'waterproofs', 'waterproof', 'waterpark', 'waterline', 'waterhole', 'waterful', 'waterfilled', 'waterboard', 'waterbed', 'washer', 'wars', 'warning', 'warming', 'warily', 'wards', 'wants', 'wanting', 'wanders', 'walled', 'walkways', 'walkng', 'walkman', 'waling', 'wal', 'wakeboarders', 'waitresses', 'waing', 'wagging', 'waeribng', 'wadingpool', 'waded', 'waaves', 'volkswagen', 'voice', 'vocabulary', 'visits', 'visitor', 'visiting', 'vision', 'virtual', 'violins', 'violinist', 'violently', 'vinyl', 'vinecovered', 'villages', 'vike', 'vigorous', 'viewpoint', 'viewfinder', 'videos', 'videogame', 'videocameras', 'vibrating', 'vibrant', 'via', 'vfw', 'verizon', 'verdant', 'verbal', 'venue', 'venture', 'vents', 'venice', 'vendors', 'vegetable', 'vaulter', 'vaulated', 'vat', 'vaste', 'vase', 'variety', 'vapour', 'vans', 'vandalized', 'vampires', 'valleys', 'vacationing', 'vacation', 'utility', 'utilities', 'usual', 'urge', 'uptop', 'upstream', 'ups', 'upperclass', 'uplifted', 'upfront', 'upclose', 'unzipping', 'untouched', 'untangles', 'unsual', 'unspooled', 'unshaven', 'unpainted', 'unoccupied', 'unner', 'universal', 'uniquelyshaped', 'unifrom', 'unified', 'unfurling', 'unfurled', 'unexcited', 'uneven', 'undone', 'underpass', 'underpants', 'underneat', 'underhang', 'underfoot', 'underbrush', 'unconventional', 'unamused', 'ump', 'typical', 'types', 'tyedyed', 'tychy', 'twp', 'twowheeled', 'twotone', 'twos', 'twome', 'twisty', 'twists', 'twist', 'twins', 'twho', 'twenty', 'twenties', 'twelve', 'tw', 'turquiose', 'turnaround', 'turbulent', 'turbaned', 'tupperware', 'tuner', 'tune', 'tundra', 'tumble', 'tulip', 'tufts', 'tuft', 'tucking', 'tucked', 'trundles', 'trumped', 'trudge', 'trows', 'troupe', 'trotted', 'trombone', 'trolley', 'troll', 'trips', 'tripped', 'tripods', 'trio', 'trendy', 'trekkies', 'treetops', 'treeless', 'treed', 'treck', 'tread', 'traveller', 'traveler', 'transport', 'trams', 'tramples', 'trampled', 'trained', 'tractorlike', 'trackside', 'trackandfield', 'trace', 'towrope', 'towheaded', 'towarn', 'touts', 'tourquoise', 'tough', 'touchline', 'total', 'torwards', 'torsodeep', 'torii', 'torch', 'toppless', 'topdown', 'toothpaste', 'tongee', 'tonge', 'tones', 'tone', 'tomatos', 'toll', 'togerther', 'toddles', 'tobaggons', 'tobaggan', 'tissue', 'tiretracks', 'tireswing', 'tireshaped', 'tipping', 'tinted', 'tinsel', 'tin', 'tim', 'tilting', 'tilling', 'tikes', 'tightropes', 'tigger', 'tier', 'tidal', 'tickled', 'ti', 'thw', 'thrust', 'thrower', 'throughwindow', 'throat', 'threshold', 'threeway', 'thread', 'thre', 'thrashed', 'thows', 'thousand', 'thought', 'thoroughly', 'thong', 'tho', 'thirty', 'thirds', 'thinner', 'thinks', 'thie', 'ther', 'then', 'thck', 'thatch', 'thank', 'tge', 'texts', 'text', 'texas', 'tests', 'terrorizes', 'terrior', 'tentatively', 'tends', 'tending', 'temporary', 'tells', 'tell', 'telescopes', 'telephot', 'telegraph', 'teeing', 'teases', 'tear', 'teamates', 'tbe', 'tbar', 'taxis', 'tax', 'tawny', 'tattoed', 'tatoo', 'tasting', 'tassel', 'targeting', 'taps', 'tapped', 'taped', 'tanskinned', 'tanning', 'tanktops', 'tanktop', 'tankini', 'tandom', 'tanandwhite', 'tame', 'talent', 'tale', 'takeout', 'takeing', 'tak', 'tabs', 'tabloid', 'sync', 'swordfighting', 'swordfight', 'swishing', 'swirls', 'swirling', 'swirl', 'swipes', 'swinsuit', 'swingtype', 'swingtoy', 'swingset', 'swinger', 'swine', 'swimsuites', 'swimcap', 'swiftly', 'swetashirts', 'swept', 'sweeping', 'sweatshir', 'sweatpants', 'sweating', 'sweashirt', 'swear', 'swatting', 'swatted', 'swarming', 'swarmed', 'swarm', 'swallow', 'swaetshirt', 'suspiciously', 'suspension', 'sushi', 'surveying', 'surroundings', 'surronded', 'surounded', 'surges', 'surfaces', 'sure', 'suprised', 'supporters', 'supervision', 'supervising', 'supervise', 'supermarket', 'superhero', 'suntanning', 'suntan', 'sunshaped', 'sunsetting', 'suns', 'sunning', 'sunhat', 'sunflower', 'sundappled', 'sunbathing', 'summersault', 'sum', 'suite', 'suggestively', 'suggestive', 'suffering', 'suckles', 'sucker', 'suburbs', 'submissive', 'subdivsion', 'subaru', 'sub', 'styrofoam', 'stylish', 'styled', 'stuntleap', 'stuntbicyclist', 'stumbling', 'stucco', 'stubbled', 'strung', 'strolling', 'strokes', 'stroke', 'stringless', 'striding', 'strides', 'stretchy', 'strength', 'streght', 'streetway', 'streetshot', 'streetpole', 'streetlights', 'streetlamp', 'streches', 'streched', 'streams', 'streambed', 'strawberries', 'strand', 'strains', 'strainer', 'straggle', 'stork', 'stoppie', 'stoplight', 'stopaction', 'stoney', 'stonesign', 'stonefilled', 'stoll', 'stoic', 'stocky', 'stockings', 'stockcar', 'stock', 'stirring', 'stirred', 'stingray', 'stifflyposed', 'stiffing', 'sticker', 'stickball', 'stiars', 'steve', 'stereo', 'stepstool', 'steeple', 'steap', 'steamy', 'steamboat', 'steaks', 'stays', 'staue', 'statefarmcom', 'started', 'starlet', 'stared', 'starbuck', 'stange', 'standind', 'stamds', 'stages', 'stadning', 'stacking', 'stacked', 'squeezed', 'squeamish', 'squeals', 'squeak', 'squating', 'squated', 'squabble', 'spurting', 'sprinkling', 'sprinkles', 'sprinkled', 'sprinking', 'sprinkers', 'springtime', 'springer', 'sprawls', 'sprawling', 'spouse', 'spotting', 'spoted', 'sportwoman', 'sportman', 'sponsorship', 'sponsors', 'sponsor', 'sponges', 'spokesmodels', 'spokes', 'spoke', 'splattered', 'splatter', 'spiritual', 'spirit', 'spindle', 'spinart', 'spills', 'spill', 'spiking', 'spiderpatterned', 'sphere', 'spewing', 'spelunker', 'spelling', 'speedway', 'speedskater', 'spectating', 'spectate', 'speakers', 'spays', 'spashes', 'spash', 'sparking', 'spare', 'spanishstyle', 'spaniels', 'spangles', 'spain', 'spacious', 'spaced', 'south', 'sour', 'soundproof', 'soocerball', 'somone', 'somersaults', 'somersaulting', 'someplace', 'someones', 'somehow', 'solo', 'solitude', 'solid', 'solicits', 'soles', 'softdrinks', 'sock', 'social', 'soccor', 'soar', 'soapy', 'soaks', 'soaker', 'snub', 'snowsuits', 'snowshovel', 'snowscapes', 'snowploe', 'snowpile', 'snowpatched', 'snowpants', 'snowpacked', 'snowgear', 'snowflake', 'snowfall', 'snowdrift', 'snowbound', 'snowbanks', 'snowballs', 'snout', 'snorkeling', 'snoring', 'snarly', 'snare', 'snapshot', 'snaps', 'snakeskin', 'snacks', 'smoky', 'smokestacks', 'smoked', 'smilely', 'smiled', 'smiff', 'smells', 'smelled', 'smashed', 'smal', 'smacks', 'smacking', 'slushies', 'slush', 'slurps', 'slurpees', 'slumped', 'slowly', 'slouched', 'sloppy', 'slips', 'slipping', 'slingshot', 'slimy', 'sliiding', 'slighty', 'slideshow', 'sleve', 'sleep', 'sleeding', 'sledlike', 'sleddog', 'sledders', 'slates', 'slat', 'slanted', 'slaloms', 'slalomlike', 'skying', 'skit', 'skisuit', 'skislope', 'skipped', 'skiny', 'skims', 'skimply', 'skimming', 'skill', 'skilift', 'skijoring', 'skii', 'skidded', 'skewers', 'skewed', 'skeptically', 'skeletonprinted', 'situated', 'sitts', 'sisters', 'siren', 'since', 'simultaneously', 'silverware', 'siluettes', 'silohuetted', 'sillouhette', 'sillhouttes', 'sillhouetted', 'sill', 'silky', 'silhouettes', 'signpost', 'signer', 'signed', 'signature', 'signaling', 'signage', 'sightseers', 'sifting', 'sidwalk', 'sidewalks', 'sidebyside', 'sick', 'sibling', 'shuttered', 'shute', 'shrowded', 'shriner', 'shreds', 'shredding', 'shredded', 'showroom', 'showered', 'shouts', 'shoulderlength', 'shoulderhigh', 'shoulderdeep', 'shoulderbag', 'shotput', 'shotongoal', 'shortstop', 'shortsleeved', 'shortly', 'shorthair', 'shorline', 'shored', 'shook', 'shoeshine', 'shoelaces', 'shocks', 'shivers', 'shivering', 'shite', 'shirtness', 'shire', 'ships', 'shin', 'shimp', 'shields', 'shews', 'shetland', 'shepherds', 'sheperds', 'shelton', 'shells', 'sheilding', 'sheepdogs', 'shawled', 'shaving', 'shave', 'shark', 'shares', 'shape', 'shaky', 'shag', 'shadowy', 'shadowdappled', 'shading', 'shabby', 'seyeview', 'sewn', 'sewer', 'severe', 'seventh', 'settings', 'serveral', 'serena', 'sequoia', 'seperated', 'seperate', 'separated', 'sentence', 'sends', 'semiformal', 'semicloudy', 'seller', 'selfportrait', 'seidwalk', 'seeking', 'seek', 'seeingeye', 'seedoo', 'seed', 'sedan', 'sect', 'secret', 'secondstory', 'secluded', 'seaworld', 'seawall', 'seater', 'seaside', 'seas', 'seahorse', 'seaguls', 'seafood', 'seabird', 'sculptures', 'scull', 'scubba', 'scrolled', 'screening', 'screened', 'screeches', 'scratch', 'scraping', 'scrap', 'scowls', 'scowling', 'scores', 'scored', 'scope', 'scientist', 'science', 'schoolyard', 'schools', 'schoolgirl', 'schoolboy', 'schoolaged', 'scent', 'scattered', 'scarred', 'scarily', 'scare', 'scantilyclad', 'scans', 'scanner', 'scampers', 'scalling', 'scale', 'saxaphones', 'saver', 'savanah', 'saucers', 'saucer', 'saroog', 'sarongs', 'santas', 'santana', 'sang', 'sands', 'sandcastles', 'samoyads', 'samll', 'saltandpepperhaired', 'salt', 'sales', 'sailboarder', 'saharan', 'safron', 'saffron', 'safe', 'saddled', 'sabre', 'rustric', 'rustic', 'rust', 'russel', 'rushed', 'rungs', 'rung', 'rummages', 'rummage', 'ruined', 'ruin', 'ruggers', 'rowed', 'rounded', 'roundabout', 'rottwieler', 'rottweiller', 'rotating', 'rotary', 'rosy', 'ropey', 'ropeswinging', 'roped', 'roots', 'roosters', 'roofs', 'roofed', 'romps', 'romping', 'romantically', 'romantic', 'rollskating', 'rollerskate', 'rolledup', 'roiling', 'rodents', 'rode', 'roddick', 'rodderick', 'rockstrewn', 'rockface', 'rockets', 'rockclimbs', 'rockclimber', 'rockclimb', 'robust', 'roasted', 'roads', 'riwal', 'riverwater', 'riverside', 'rivers', 'riverrapids', 'riverrafting', 'riverboat', 'risen', 'ripstik', 'rips', 'rippling', 'rippled', 'ripped', 'rim', 'rights', 'rigging', 'rifding', 'ridable', 'rhododendron', 'reviews', 'revel', 'reveals', 'revealed', 'retriving', 'retrives', 'retrive', 'retreiving', 'retreived', 'retangular', 'restroom', 'restrain', 'rested', 'responding', 'responders', 'respectively', 'reson', 'resembling', 'resembles', 'resaurant', 'res', 'reptiles', 'representing', 'reported', 'replaces', 'replaced', 'repel', 'repair', 'rental', 'remove', 'remember', 'remax', 'remaining', 'rellow', 'relection', 'relatively', 'related', 'rehearsing', 'regularly', 'regains', 'refugees', 'reflects', 'reflected', 'referring', 'reentry', 'reenactors', 'reeling', 'redwood', 'redvested', 'reduniformed', 'redskins', 'redseated', 'reds', 'redish', 'redhead', 'reddressed', 'reddishbrown', 'redclothed', 'redclad', 'redcarpeted', 'redbrown', 'recyclable', 'rectangular', 'rectangle', 'recoiling', 'recline', 'recked', 'recital', 'recieve', 'receiver', 'rebound', 'rearview', 'reared', 'readies', 'readied', 'reacting', 'react', 're', 'razzling', 'razer', 'ratty', 'rattan', 'rather', 'rates', 'rasing', 'rash', 'rappeling', 'rapid', 'rapels', 'rangler', 'rangers', 'ranger', 'rallies', 'raling', 'rakes', 'raked', 'rainstorm', 'rainling', 'raingear', 'raincoats', 'railling', 'railgrind', 'rags', 'rafael', 'ractrack', 'racks', 'rackets', 'racedog', 'rabbits', 'quite', 'quintet', 'quinta', 'quick', 'queue', 'questioningly', 'question', 'ques', 'queens', 'quarry', 'quaint', 'pyranha', 'pylons', 'pushup', 'pursues', 'pursing', 'pursed', 'purina', 'pure', 'purchased', 'punts', 'punt', 'punkish', 'pumped', 'pullup', 'pullovers', 'pulleys', 'pub', 'proximity', 'prow', 'provocative', 'proudly', 'proud', 'protruding', 'protector', 'protecting', 'protected', 'properly', 'propels', 'propelling', 'propeller', 'proped', 'prop', 'proof', 'promting', 'promotional', 'projector', 'projected', 'progressively', 'programs', 'profusely', 'professionally', 'profession', 'production', 'producing', 'produces', 'procession', 'probably', 'proamerica', 'pristine', 'prison', 'prints', 'pring', 'primping', 'prestends', 'pressure', 'pressing', 'pressed', 'press', 'preserves', 'preservers', 'presenting', 'presentations', 'preparation', 'prepairing', 'preoccupied', 'prefabricated', 'prays', 'prarie', 'prance', 'practising', 'powerwashing', 'powerlines', 'powerful', 'powerboats', 'powdery', 'pouting', 'pound', 'pottypotty', 'potty', 'potrait', 'potao', 'possessively', 'positions', 'positioned', 'posign', 'posh', 'portrate', 'portopotties', 'portojohn', 'portfolio', 'portapotty', 'porcelain', 'popsicles', 'popscicles', 'poppies', 'popper', 'popped', 'popcycles', 'poorlylit', 'poorly', 'pooping', 'poofy', 'poof', 'pontoon', 'poncho', 'poms', 'pompadour', 'pomeranian', 'pom', 'poll', 'polkadot', 'policeperson', 'polar', 'poems', 'pods', 'pnc', 'plywood', 'plungles', 'plucking', 'plows', 'plling', 'pleople', 'plenty', 'pleasant', 'pleadingly', 'playy', 'playtoy', 'playstation', 'playroom', 'playmat', 'playgym', 'playfighting', 'playes', 'plats', 'planting', 'planter', 'plantains', 'planks', 'planked', 'plan', 'placemats', 'pizzeria', 'pitted', 'pits', 'pitched', 'pitbulls', 'pipes', 'pipeline', 'pinstriped', 'pinscher', 'pinkish', 'pinkhooded', 'pinkcoated', 'pinkbottomed', 'ping', 'pinestraw', 'pinches', 'pincer', 'pinball', 'pillowfight', 'pillowcase', 'pillared', 'pilings', 'piling', 'pilar', 'pigs', 'piggybacking', 'pierlike', 'picutre', 'picure', 'picnickers', 'pice', 'pianist', 'physiques', 'physical', 'photographic', 'photograhi', 'phillie', 'philadelphia', 'pf', 'petterned', 'perused', 'persues', 'persue', 'personal', 'persian', 'perplexed', 'perm', 'perked', 'periods', 'perfume', 'perfors', 'performed', 'perforced', 'perfoms', 'perfomed', 'perfom', 'perfect', 'percussionists', 'pepco', 'pep', 'peoplw', 'peoople', 'peolple', 'pensively', 'pencils', 'peircings', 'peirced', 'pees', 'peeping', 'pee', 'pedigree', 'peddles', 'peddled', 'peddal', 'pedalling', 'pecks', 'pecking', 'pebbly', 'pearl', 'peacoat', 'peacefully', 'payphone', 'payfully', 'payer', 'pay', 'pawed', 'pavillion', 'pavilion', 'pausing', 'pause', 'patterns', 'patterened', 'pats', 'patrollers', 'patroling', 'patriotic', 'patricks', 'pastures', 'pasts', 'pastor', 'pastels', 'pastel', 'passin', 'passifier', 'passers', 'passenager', 'passageway', 'passage', 'partition', 'partake', 'parody', 'parkinglot', 'parasurfs', 'parasurfing', 'paraskier', 'paraphernalia', 'paralell', 'paragliding', 'paraglides', 'paraglide', 'parachuter', 'panties', 'pans', 'panoramic', 'panhandler', 'panes', 'panelling', 'paneling', 'pane', 'panda', 'panasonic', 'pamphlets', 'pamphlet', 'palmtree', 'pall', 'palid', 'palestinian', 'paleontologist', 'palace', 'paisley', 'painters', 'pagent', 'padel', 'paddock', 'padding', 'pacman', 'packs', 'packers', 'packer', 'packaged', 'paced', 'pace', 'ox', 'overwhelmed', 'overturn', 'overtop', 'overshirt', 'overshadows', 'overshadowed', 'overnight', 'overhear', 'overhangs', 'overflowing', 'overflow', 'overfilled', 'ovals', 'oval', 'outward', 'outstreched', 'outs', 'outlines', 'outlined', 'outline', 'outise', 'outfut', 'outfir', 'outfield', 'outcroping', 'ouside', 'ourdoors', 'otuside', 'ot', 'osme', 'orthodox', 'origin', 'oriential', 'organizing', 'organized', 'organization', 'organic', 'orders', 'orchestra', 'orca', 'orbs', 'orangish', 'orangesunset', 'orangestained', 'orangehooded', 'orangeclad', 'oppsite', 'oppsing', 'opposition', 'opportunity', 'oppenents', 'opinion', 'operators', 'operates', 'operated', 'operate', 'openmouthed', 'openair', 'oout', 'ont', 'onslaught', 'onsie', 'onrushing', 'onesie', 'ones', 'onearmed', 'oiled', 'ohio', 'oh', 'offwhite', 'officiallooking', 'offf', 'offered', 'offensive', 'od', 'oclock', 'oceanside', 'occured', 'occassion', 'obsured', 'observer', 'obscures', 'obscure', 'obscene', 'obligatoire', 'objest', 'objective', 'obese', 'oak', 'nussle', 'nursed', 'numeral', 'nugent', 'nudges', 'nubby', 'noy', 'nowhere', 'novel', 'notsocrowded', 'notre', 'notices', 'noticable', 'nothing', 'notepad', 'nosedeep', 'nordic', 'nonworking', 'nongrassy', 'non', 'noisemaker', 'noise', 'nodding', 'noce', 'nitro', 'nipples', 'nip', 'ninjalike', 'nightlife', 'nibbles', 'nfl', 'newlywed', 'netting', 'nestled', 'nest', 'nervous', 'neptuno', 'neoncolored', 'neither', 'negotiates', 'needs', 'needlepoint', 'neclace', 'neckties', 'neckless', 'neckdeep', 'nech', 'neatly', 'neat', 'nd', 'navel', 'naval', 'naturally', 'nations', 'national', 'nation', 'nat', 'nash', 'narby', 'napping', 'nametags', 'names', 'mysterious', 'my', 'muxzzled', 'mutltiple', 'muti', 'mussels', 'musicans', 'mushrooms', 'mushroom', 'muscles', 'multiracial', 'multiprint', 'multipiercings', 'multilple', 'multicultural', 'multicoloured', 'mullet', 'mules', 'muffler', 'mudwrestle', 'mudfight', 'mucky', 'movers', 'moutnain', 'mouthpiece', 'moutainside', 'moutains', 'moutain', 'moustaches', 'mountin', 'mountaindew', 'mountainclimbing', 'motorscooter', 'motors', 'motorists', 'motorcyle', 'motorcycling', 'motorcrossing', 'motocycle', 'motley', 'motivation', 'motioning', 'mothers', 'moter', 'mosquelike', 'mosque', 'mosaic', 'mortar', 'montana', 'monocolor', 'monkeys', 'monkeybars', 'monitoring', 'moniter', 'moms', 'mommy', 'momma', 'mole', 'mold', 'mogul', 'modifications', 'models', 'modeling', 'mocks', 'mobility', 'mma', 'mittened', 'mitsubishi', 'mistletoe', 'misspelled', 'mission', 'mishap', 'miscellaneous', 'minor', 'minnie', 'minitrampoline', 'miniskirts', 'minirace', 'minerature', 'mine', 'minding', 'min', 'milling', 'milkweed', 'milkbone', 'militarystyle', 'miles', 'mike', 'midway', 'midstride', 'midspeach', 'midsized', 'midsections', 'midrun', 'midriff', 'midpitch', 'midfield', 'midday', 'midclimb', 'midafternoon', 'mic', 'miasto', 'metropolitain', 'met', 'messanger', 'message', 'mesa', 'mermaid', 'mercury', 'merchant', 'menacingly', 'memorabilia', 'megaphone', 'meetinghall', 'medow', 'mediumsized', 'meditational', 'meditating', 'median', 'medatative', 'mechanisms', 'measuring', 'measures', 'meanders', 'me', 'mcdonald', 'may', 'mature', 'matt', 'matchin', 'mastif', 'masters', 'mast', 'masses', 'masquerade', 'masonry', 'marvel', 'marshlike', 'marlins', 'marinelifethemed', 'marine', 'mardis', 'maracas', 'maps', 'maple', 'manuever', 'manuals', 'manually', 'mansion', 'mannequin', 'manmade', 'mani', 'maneuvering', 'manequins', 'mandolin', 'manager', 'mama', 'malnourished', 'maker', 'majestically', 'maintained', 'maintain', 'mainly', 'mail', 'maids', 'magnificant', 'magizine', 'magicians', 'magician', 'magic', 'magenta', 'mad', 'macintosh', 'machinery', 'm', 'lunches', 'ls', 'lowering', 'lowcut', 'lounges', 'lotion', 'lost', 'losing', 'loses', 'loser', 'lopes', 'looptheloop', 'loops', 'loooking', 'looms', 'looling', 'lookout', 'looker', 'loofa', 'longspandex', 'longlegged', 'longish', 'longhorns', 'longeared', 'longdistance', 'longboarder', 'longbearded', 'longbeaked', 'london', 'lollipops', 'locomotives', 'locks', 'locker', 'loaves', 'loader', 'll', 'lkievely', 'live', 'litttle', 'littering', 'litlle', 'litle', 'literature', 'lited', 'lionist', 'lingers', 'linet', 'limegreen', 'lilypads', 'lillypads', 'lilly', 'lilies', 'liking', 'liked', 'lightsaber', 'lightly', 'lighterskinned', 'lifevests', 'lifevest', 'lifesavers', 'lifeguards', 'lifeboat', 'levels', 'level', 'lettuce', 'lettering', 'let', 'lesson', 'less', 'lesh', 'leotards', 'leopard', 'lenses', 'lemons', 'lei', 'ledges', 'lecturing', 'lecturer', 'leatherclad', 'leaguer', 'leader', 'lazily', 'layered', 'lawnchair', 'lavendar', 'lav', 'launching', 'laughed', 'latter', 'last', 'lassos', 'largley', 'largeboned', 'lapse', 'lapel', 'lanyard', 'landscaped', 'landmark', 'landform', 'landfill', 'lamppost', 'lampost', 'lame', 'lamb', 'lakeside', 'lakes', 'lakefront', 'lagging', 'lafayette', 'ladys', 'ladie', 'lacross', 'laceup', 'laborador', 'labelled', 'la', 'krueger', 'korean', 'kong', 'knuckle', 'knoll', 'knocking', 'knight', 'knelt', 'kneepads', 'kneeled', 'kneedeep', 'kiyaking', 'kingsworth', 'king', 'kinds', 'kilts', 'killer', 'kill', 'kildare', 'kidsized', 'kiddy', 'kickboxer', 'kickbox', 'khakis', 'khakicolored', 'key', 'kerry', 'kept', 'kelp', 'keffiyahs', 'keepaway', 'keeling', 'kayer', 'kayacker', 'kaki', 'kakhi', 'k2', 'justice', 'junglegym', 'junction', 'jumpy', 'jumpsuites', 'jumpropes', 'jumpos', 'jumpinjg', 'jumphouse', 'juming', 'jugs', 'juggler', 'judo', 'judgement', 'judea', 'jubilant', 'joyfully', 'joyful', 'joust', 'jostles', 'jomps', 'joking', 'joker', 'joint', 'joins', 'joined', 'john', 'joggers', 'jogged', 'jib', 'jewlery', 'jewish', 'jewels', 'jetskis', 'jetskiing', 'jets', 'jersy', 'jersay', 'jello', 'jazz', 'jaywalk', 'jaws', 'jaw', 'javelin', 'jars', 'japanesesponsored', 'jaket', 'jailbird', 'jacuzzi', 'jacks', 'jackolantern', 'jacketed', 'izod', 'ivars', 'italian', 'israei', 'isolated', 'islamic', 'ipods', 'iove', 'ion', 'involves', 'investigating', 'invention', 'introduces', 'intricate', 'intot', 'intervening', 'interrupts', 'internet', 'interlocking', 'interestingly', 'interacts', 'intensely', 'intended', 'insynch', 'instructs', 'instructing', 'inspect', 'inscribed', 'inlineskates', 'informal', 'inflating', 'inflatbale', 'infants', 'inertia', 'indy', 'indigo', 'indicating', 'index', 'include', 'inch', 'impress', 'implements', 'impersonators', 'impersonator', 'impact', 'imagery', 'illustrated', 'ilks', 'iguanas', 'ignores', 'ignore', 'idyllic', 'identifier', 'identification', 'idea', 'id', 'icicles', 'icey', 'iceskating', 'iceskate', 'iceburg', 'ibeam', 'hypocrites', 'hustle', 'huskylike', 'huskey', 'husk', 'hurridly', 'hurricanes', 'hurdlejumper', 'hunt', 'hungry', 'hundred', 'humorous', 'humansize', 'hulk', 'hudge', 'huddles', 'htting', 'hte', 'hsirt', 'hr', 'hp', 'howls', 'hovered', 'housekeeping', 'hotrod', 'hotpink', 'hotair', 'hoses', 'hortons', 'horseriders', 'horsemen', 'horsedrawn', 'horro', 'horned', 'horizontallystriped', 'hop', 'hoolahoops', 'hooked', 'hoofs', 'hoof', 'hoodoos', 'hooding', 'hoodedcoat', 'honest', 'homerun', 'holy', 'holing', 'holiday', 'holey', 'holes', 'hoists', 'hoist', 'hoddie', 'hobby', 'histerically', 'hippies', 'hippie', 'hindu', 'hilltops', 'hillock', 'highschoolers', 'highschool', 'highrise', 'highflying', 'highfiving', 'highchair', 'heroes', 'heritage', 'here', 'herbs', 'helplessly', 'helped', 'helments', 'helemt', 'heights', 'heeled', 'hedge', 'heavymetal', 'heating', 'heather', 'heap', 'healthy', 'headwear', 'headscarves', 'headresses', 'headress', 'headline', 'headlight', 'headless', 'headgear', 'headcover', 'hdr', 'haystacks', 'hawaiin', 'hauling', 'hauled', 'hatted', 'hatchback', 'harvest', 'harpsichord', 'harly', 'hardscape', 'hardly', 'hardhats', 'hapy', 'happiness', 'happen', 'hapily', 'hanna', 'hankerchief', 'hangong', 'hanglider', 'hangglider', 'handwritten', 'handstands', 'handrailing', 'handout', 'handlers', 'handkerchiefs', 'handkerchief', 'handcrank', 'handbags', 'hamming', 'halway', 'haloween', 'halmets', 'hallways', 'halfsmile', 'halfnaked', 'halfdressed', 'halfcompleted', 'halfburied', 'hairnet', 'hairdo', 'hairclips', 'hailing', 'hacking', 'hackey', 'h', 'gutarist', 'gust', 'gushing', 'gurnee', 'guiutarist', 'guitarists', 'guidewire', 'guests', 'guessing', 'guardsman', 'grss', 'grows', 'grownups', 'grownup', 'grouped', 'groupe', 'grouchy', 'grotto', 'groomed', 'grond', 'grip', 'grimmaces', 'griding', 'grid', 'greysuited', 'greyishbrown', 'greyblue', 'grenade', 'gren', 'gregoire', 'greens', 'greenpeace', 'greenglow', 'greencolored', 'greenbay', 'grazing', 'grayish', 'graying', 'graygreen', 'gravity', 'graveyard', 'grating', 'grate', 'grasslands', 'grassland', 'granny', 'granite', 'grandmother', 'grand', 'grainy', 'graham', 'graffti', 'graffitti', 'graffitistrewn', 'graffitiheavy', 'graffited', 'gradual', 'gra', 'government', 'gover', 'gound', 'goucho', 'gotten', 'gothically', 'gorup', 'gorge', 'goofing', 'gontaga', 'gondoliers', 'golfing', 'goldfish', 'goldenrod', 'goldencolored', 'goldenbrown', 'goldcolored', 'gokarts', 'goggled', 'goers', 'goals', 'goalies', 'gnome', 'gnarly', 'glvoes', 'glowers', 'glovedhand', 'global', 'gliders', 'glide', 'gleefully', 'glee', 'gleaming', 'glassy', 'glassses', 'glassess', 'glares', 'glacial', 'gith', 'girt', 'girlfriends', 'giong', 'gingerbread', 'gin', 'giggling', 'gigantic', 'gifts', 'gi', 'ghostbuster', 'ghost', 'ghandi', 'gettnig', 'gesticulates', 'germanshepherd', 'geological', 'gentle', 'gemmed', 'gelled', 'geishas', 'gazed', 'gauzey', 'gaurdian', 'gaurd', 'gauntlet', 'gators', 'gatorade', 'gateway', 'garner', 'garmet', 'garments', 'garland', 'ganilla', 'gandhi', 'gambling', 'gallopsing', 'gallop', 'gains', 'furtrimmed', 'further', 'furred', 'furocious', 'furiously', 'furious', 'funky', 'fundraising', 'fumble', 'fuchsia', 'fton', 'frustrated', 'fruits', 'frowns', 'frown', 'froup', 'fronr', 'fronmt', 'fronds', 'fro', 'frizzy', 'frisbree', 'frisbie', 'frisbeen', 'fribee', 'freesbies', 'freefalling', 'freefall', 'freeclimbing', 'freddy', 'frayed', 'fraternal', 'foyer', 'fox', 'fowl', 'fourth', 'foul', 'fortune', 'forth', 'fortess', 'formula', 'forms', 'formallydressed', 'foreround', 'forelegs', 'foreigners', 'foreign', 'foreheads', 'forehand', 'forearms', 'forearm', 'forcing', 'forceful', 'force', 'foraging', 'footwork', 'footrace', 'footpath', 'footbride', 'footballs', 'footage', 'foosball', 'fooling', 'font', 'folks', 'foliaged', 'folds', 'foldable', 'fold', 'foil', 'foggyday', 'focusing', 'focused', 'flyfishing', 'flyaway', 'flurry', 'fluorescent', 'fluorecent', 'flume', 'fluid', 'flown', 'flowercovered', 'flowerbed', 'flotation', 'flocking', 'floatlys', 'floaters', 'floated', 'flirts', 'flipflop', 'flighht', 'fliers', 'flickr', 'flexibility', 'flexable', 'fleeing', 'fleecy', 'fleeces', 'flautist', 'flattened', 'flatscreen', 'flats', 'flatbed', 'flashlight', 'flashes', 'flaring', 'flares', 'flare', 'flanked', 'flamboyantly', 'flakes', 'flaggers', 'fixtures', 'fixes', 'fixer', 'fiveteen', 'fives', 'fitness', 'fitls', 'fishscales', 'fisheye', 'fishers', 'fisher', 'fishemen', 'firework', 'fireside', 'fireplug', 'firends', 'firedancer', 'firecracker', 'fins', 'finishes', 'fingertips', 'fingerhold', 'filiming', 'filed', 'figurine', 'fig', 'fiesty', 'fiercely', 'fiels', 'fielder', 'fiddles', 'fiddle', 'fetched', 'ferrett', 'fending', 'fend', 'fellows', 'felled', 'feel', 'feathery', 'fear', 'feamle', 'fayre', 'fawkes', 'faux', 'fatigue', 'fastfood', 'fastest', 'fastens', 'fastened', 'farward', 'farris', 'fantasy', 'fantastic', 'fanning', 'fancily', 'families', 'faithful', 'faith', 'fairway', 'fairly', 'fairgrounds', 'faint', 'fails', 'fadora', 'factory', 'facepaintings', 'facepainted', 'facefirst', 'facedown', 'eyeshadow', 'eyese', 'eyepatch', 'eyeing', 'extravagent', 'extravagantlyhaired', 'extinguishes', 'exterior', 'extending', 'expressway', 'expressionless', 'expressing', 'exposure', 'exposition', 'expose', 'explosive', 'explosions', 'explores', 'explorer', 'experimenter', 'experiences', 'expansive', 'expanding', 'exits', 'exited', 'exibit', 'exhibt', 'exercising', 'exercisewheel', 'exercised', 'exciting', 'excites', 'exchanges', 'exchange', 'excess', 'excersizing', 'excersise', 'excercises', 'excercise', 'exception', 'excavating', 'examined', 'evident', 'everything', 'everyday', 'everybody', 'ever', 'even', 'evade', 'europe', 'euro', 'ethnicity', 'established', 'espana', 'escorts', 'escalators', 'erupts', 'eroded', 'equpitment', 'equpiment', 'equipments', 'equiment', 'ependent', 'enviorment', 'entwined', 'entry', 'entire', 'enthusiasts', 'enthusiastic', 'entertains', 'entertainment', 'entertaining', 'entertainers', 'entertainer', 'enters', 'enterance', 'entangles', 'ensemble', 'enlarged', 'enjoyment', 'enjoyable', 'engulf', 'engraved', 'enforcment', 'energetic', 'endzone', 'endorsementcovered', 'ended', 'encripted', 'encourages', 'encouraged', 'encounters', 'encircling', 'emty', 'emphatically', 'emotionally', 'emits', 'emerged', 'emerge', 'emerald', 'embroidered', 'emblems', 'emblazoned', 'embedded', 'em', 'eluding', 'elementary', 'element', 'electricity', 'elbows', 'egytianlike', 'egyptian', 'egg', 'egde', 'effects', 'ee', 'edges', 'edged', 'eccentric', 'eatery', 'easy', 'east', 'easily', 'easels', 'earphone', 'earnhardt', 'earflaps', 'eagerly', 'eachothers', 'dupont', 'dupar', 'dunked', 'dumpsters', 'dumped', 'dump', 'dueling', 'duel', 'ducky', 'ducking', 'du', 'dryed', 'drumset', 'drumming', 'drove', 'dropped', 'drooping', 'driverside', 'drips', 'dripping', 'drills', 'driftwood', 'driftrood', 'dries', 'dribbled', 'dresswear', 'dressedup', 'dreeds', 'dreary', 'draping', 'drap', 'dramatic', 'drak', 'drainpipe', 'dragster', 'dragons', 'drab', 'dozen', 'downstream', 'downsteps', 'downriver', 'downpour', 'dotted', 'doorag', 'dooorway', 'dont', 'dons', 'dong', 'donations', 'donates', 'dominant', 'dominance', 'domes', 'domed', 'dolls', 'dojo', 'dogshirt', 'doge', 'doe', 'dodging', 'dodge', 'docks', 'docking', 'dobbermen', 'djs', 'dizzy', 'divind', 'diverse', 'divers', 'diveboard', 'disturbed', 'district', 'distribute', 'distressed', 'distored', 'distnat', 'disrupt', 'disney', 'dismounts', 'disks', 'dishtowel', 'disgusted', 'disguise', 'discussion', 'discs', 'discovery', 'discovers', 'discouraged', 'disabled', 'diry', 'dirtyblonde', 'dirtracing', 'dirtbike', 'dirtbed', 'directory', 'director', 'directing', 'directed', 'direct', 'dipping', 'diplomas', 'dingo', 'dine', 'dimpled', 'dimond', 'dimmly', 'dimlylit', 'dimlight', 'dilapidated', 'differentcolored', 'diferent', 'did', 'dice', 'diamond', 'dial', 'diagram', 'dhe', 'dge', 'devotion', 'development', 'developing', 'developed', 'determination', 'detector', 'destination', 'desserts', 'desperate', 'desertlike', 'deserted', 'derssed', 'depth', 'deposited', 'depicts', 'dense', 'demonstrate', 'demonstarting', 'democrat', 'delivery', 'delivering', 'degrees', 'defying', 'defense', 'defender', 'defended', 'defecating', 'defaced', 'deeps', 'deeper', 'decoyanimal', 'decortive', 'decorate', 'decked', 'deciding', 'decide', 'debri', 'dealth', 'dealing', 'daylight', 'davison', 'dave', 'dashes', 'dashboard', 'daschunds', 'darts', 'dart', 'darkheaded', 'darkerskinned', 'darked', 'dandylions', 'dandilions', 'damp', 'dame', 'daft', 'dacshund', 'cylindrical', 'cyclers', 'cycler', 'cutoff', 'custom', 'cushions', 'curving', 'curtsey']\n"
          ]
        }
      ],
      "source": [
        "from tensorflow.keras.layers import TextVectorization, StringLookup\n",
        "\n",
        "captions_list = df_txt.caption.to_list()\n",
        "\n",
        "vocab_size = 8000\n",
        "# output_sequence_length = 20 # adjust this according to your max_length\n",
        "\n",
        "# create the TextVectorization layer\n",
        "vectorizer = TextVectorization(max_tokens=vocab_size, output_mode=\"int\")\n",
        "\n",
        "# adapt the layer to the captions_list\n",
        "vectorizer.adapt(captions_list)\n",
        "\n",
        "# get the word index\n",
        "word_list = vectorizer.get_vocabulary()\n",
        "\n",
        "# get the integer sequences\n",
        "train_seqs = vectorizer(captions_list)\n",
        "\n",
        "print(word_list)\n",
        "\n",
        "# get the max length of sequences from the vectorizer\n",
        "max_length = train_seqs.shape[1]"
      ]
    },
    {
      "cell_type": "code",
      "execution_count": null,
      "metadata": {
        "id": "ic_Utl6I4ev2"
      },
      "outputs": [],
      "source": [
        "from tensorflow.keras.layers import TextVectorization\n",
        "from tensorflow.keras.utils import pad_sequences\n",
        "from tensorflow.keras.utils import to_categorical\n",
        "import numpy as np\n",
        "\n",
        "def data_generator(df, vectorizer, max_length, vocab_size, image_data, batch_size):\n",
        "    num_batches = len(df) // batch_size\n",
        "    while True:\n",
        "        for i in range(num_batches):\n",
        "            batch_df = df.iloc[i*batch_size:(i+1)*batch_size]\n",
        "            X1, X2, y = [], [], []\n",
        "            for index, row in batch_df.iterrows():\n",
        "                pic = image_data[row['filename']]\n",
        "                seq = vectorizer([row['caption']]).numpy()[0] # convert caption to vectorized tensor and then to numpy array\n",
        "                # seq = np.argmax(seq) # optional: get index of max value in vector\n",
        "                for j in range(1, len(seq)):\n",
        "                    in_seq, out_seq = seq[:j], seq[j]\n",
        "                    in_seq = pad_sequences([in_seq], maxlen=max_length)[0]\n",
        "                    out_seq = to_categorical([out_seq], num_classes=vocab_size)[0]\n",
        "                    X1.append(pic)\n",
        "                    X2.append(in_seq)\n",
        "                    y.append(out_seq)\n",
        "            yield [np.array(X1), np.array(X2)], np.array(y)\n",
        "\n",
        "batch_size = 64\n",
        "train_generator = data_generator(df_txt, vectorizer, max_length, vocab_size, train_img_feats, batch_size)"
      ]
    },
    {
      "cell_type": "markdown",
      "metadata": {
        "id": "J_LjvGtNAUUw"
      },
      "source": [
        "# Downloading GloVe to using its vector embeddings"
      ]
    },
    {
      "cell_type": "code",
      "execution_count": null,
      "metadata": {
        "colab": {
          "base_uri": "https://localhost:8080/"
        },
        "id": "fddgWxT36kCN",
        "outputId": "4d8d58ae-7b45-4d1a-b37e-6260eafdd26a"
      },
      "outputs": [
        {
          "output_type": "stream",
          "name": "stdout",
          "text": [
            "Downloading GloVe embeddings from http://nlp.stanford.edu/data/glove.6B.zip...\n",
            "Done!\n",
            "Extracting GloVe embeddings...\n",
            "Done!\n"
          ]
        }
      ],
      "source": [
        "import urllib.request\n",
        "import zipfile\n",
        "\n",
        "# Set the URL for the GloVe embeddings\n",
        "url = 'http://nlp.stanford.edu/data/glove.6B.zip'\n",
        "\n",
        "# Set the path where the embeddings will be stored\n",
        "embeddings_dir = 'embeddings/glove'\n",
        "\n",
        "# Create the directory if it doesn't exist\n",
        "if not os.path.exists(embeddings_dir):\n",
        "    os.makedirs(embeddings_dir)\n",
        "\n",
        "# Set the file name for the embeddings archive\n",
        "embeddings_zip = os.path.join(embeddings_dir, 'glove.6B.zip')\n",
        "\n",
        "# Download the embeddings archive if it doesn't exist\n",
        "if not os.path.exists(embeddings_zip):\n",
        "    print(f'Downloading GloVe embeddings from {url}...')\n",
        "    urllib.request.urlretrieve(url, embeddings_zip)\n",
        "    print('Done!')\n",
        "\n",
        "# Extract the embeddings if they haven't been extracted yet\n",
        "if not os.path.exists(os.path.join(embeddings_dir, 'glove.6B.100d.txt')):\n",
        "    print('Extracting GloVe embeddings...')\n",
        "    with zipfile.ZipFile(embeddings_zip, 'r') as zip_ref:\n",
        "        zip_ref.extractall(embeddings_dir)\n",
        "    print('Done!')\n"
      ]
    },
    {
      "cell_type": "code",
      "execution_count": null,
      "metadata": {
        "id": "rGfT12woASi-"
      },
      "outputs": [],
      "source": [
        "# load GloVe embeddings\n",
        "embeddings_index = {}\n",
        "glove_path = \"./embeddings/glove/glove.6B.200d.txt\"\n",
        "\n",
        "with open(glove_path, 'r', encoding='utf-8') as f:\n",
        "    for line in f:\n",
        "        values = line.split()\n",
        "        word = values[0]\n",
        "        coefs = np.asarray(values[1:], dtype='float32')\n",
        "        embeddings_index[word] = coefs\n",
        "\n",
        "# prepare embedding matrix\n",
        "embedding_dim = 200\n",
        "embedding_matrix = np.zeros((vocab_size, embedding_dim))\n",
        "for i, word in enumerate(word_list):\n",
        "    embedding_vector = embeddings_index.get(word)\n",
        "    if embedding_vector is not None:\n",
        "        embedding_matrix[i] = embedding_vector"
      ]
    },
    {
      "cell_type": "markdown",
      "metadata": {
        "id": "KL5xf0ehChWB"
      },
      "source": [
        "# Define the model"
      ]
    },
    {
      "cell_type": "code",
      "execution_count": null,
      "metadata": {
        "id": "V_3NT4N7CjxV"
      },
      "outputs": [],
      "source": [
        "from tensorflow.keras import layers, Model\n",
        "\n",
        "# define the model\n",
        "ip1 = layers.Input(shape = (2048, ))\n",
        "fe1 = layers.Dropout(0.2)(ip1)\n",
        "fe2 = layers.Dense(256, activation = 'relu')(fe1)\n",
        "ip2 = layers.Input(shape = (max_length, ))\n",
        "se1 = layers.Embedding(vocab_size, embedding_dim, mask_zero = True)(ip2)\n",
        "se2 = layers.Dropout(0.2)(se1)\n",
        "se3 = layers.LSTM(256)(se2)\n",
        "decoder1 = layers.add([fe2, se3])\n",
        "decoder2 = layers.Dense(256, activation = 'relu')(decoder1)\n",
        "outputs = layers.Dense(vocab_size, activation = 'softmax')(decoder2)\n",
        "model = Model(inputs = [ip1, ip2], outputs = outputs)"
      ]
    },
    {
      "cell_type": "markdown",
      "metadata": {
        "id": "uPygHAUZDIyn"
      },
      "source": [
        "# Train the model"
      ]
    },
    {
      "cell_type": "code",
      "execution_count": null,
      "metadata": {
        "colab": {
          "base_uri": "https://localhost:8080/"
        },
        "id": "ESmmmVAjDLla",
        "outputId": "b0b5f817-8459-4dc5-ed3d-8d445da96ef4"
      },
      "outputs": [
        {
          "output_type": "stream",
          "name": "stdout",
          "text": [
            "Epoch 1/50\n",
            " 14/632 [..............................] - ETA: 7:02 - loss: 6.9219"
          ]
        }
      ],
      "source": [
        "model.layers[2].set_weights([embedding_matrix])\n",
        "model.layers[2].trainable = False\n",
        "model.compile(loss = 'categorical_crossentropy', optimizer = 'adam')\n",
        "\n",
        "num_batches = len(df_txt) // batch_size\n",
        "model.fit(train_generator, epochs = 50, steps_per_epoch=num_batches, verbose = 1)\n",
        "# you can increase the number of epochs for better results"
      ]
    },
    {
      "cell_type": "markdown",
      "metadata": {
        "id": "inSz8Ua2TM6P"
      },
      "source": [
        "## Saving the model"
      ]
    },
    {
      "cell_type": "code",
      "execution_count": null,
      "metadata": {
        "id": "U_YvQNHyTDhY"
      },
      "outputs": [],
      "source": [
        "# define some custom metadata for the model\n",
        "metadata = {\n",
        "  'name': 'image_caption_generator',\n",
        "  'description': 'A model that generates captions for images using InceptionV3 and have all the stop words, and with no lemmatization',\n",
        "  'parameters': {\n",
        "    'vocab_size': 8000,\n",
        "    'embedding_dim': 200,\n",
        "    'lstm_units': 256,\n",
        "    'beam_size': 5\n",
        "  },\n",
        "  'performance': {\n",
        "    'loss': 2.34,\n",
        "    'accuracy': 0.76,\n",
        "    'bleu_score': 'NaN'\n",
        "  }\n",
        "}\n",
        "\n",
        "# save the model with the metadata\n",
        "model.save('img_cap_model_v2.h5', metadata=metadata)"
      ]
    },
    {
      "cell_type": "code",
      "execution_count": null,
      "metadata": {
        "id": "D02QybmdJ3F2"
      },
      "outputs": [],
      "source": [
        "model = tf.keras.models.load_model('img_cap_model_v2.h5')"
      ]
    },
    {
      "cell_type": "code",
      "execution_count": null,
      "metadata": {
        "id": "g4C8c76HDNes"
      },
      "outputs": [],
      "source": [
        "from PIL import Image\n",
        "import cv2\n",
        "\n",
        "# Load and preprocess the new image\n",
        "img = encode('./test_img.jpg')\n",
        "img = img.reshape((1, 2048))\n",
        "\n",
        "# Generate the caption\n",
        "caption = [tokenizer.word_index[\"startseq\"]]\n",
        "\n",
        "for i in range(max_length):\n",
        "    seq = pad_sequences([caption], maxlen=max_length)\n",
        "    pred = model.predict([img, seq])\n",
        "    pred_word_index = np.argmax(pred[0][i])\n",
        "    if pred_word_index in tokenizer.index_word:\n",
        "        pred_word = tokenizer.index_word[pred_word_index]\n",
        "        caption.append(pred_word_index)\n",
        "        if pred_word == 'endseq':\n",
        "            break\n",
        "\n",
        "# Convert the caption back to text\n",
        "caption = tokenizer.sequences_to_texts([caption])[0]\n",
        "\n",
        "print(caption)"
      ]
    },
    {
      "cell_type": "code",
      "execution_count": null,
      "metadata": {
        "id": "w-BydfZoYSi7"
      },
      "outputs": [],
      "source": [
        "te = encode('./test_img.jpg')\n",
        "print(te.shape)\n",
        "te =np.expand_dims(te, axis=0)\n",
        "print(te.shape)"
      ]
    },
    {
      "cell_type": "code",
      "execution_count": null,
      "metadata": {
        "id": "rxEwvcCVZK7H"
      },
      "outputs": [],
      "source": []
    },
    {
      "cell_type": "code",
      "execution_count": null,
      "metadata": {
        "id": "zZEmepdaa1-O"
      },
      "outputs": [],
      "source": [
        "def predict_caption(image_path):\n",
        "  # encode the image\n",
        "  image_vec = encode(image_path)\n",
        "  image_vec = image_vec.reshape(1, -1)\n",
        "  # initialize the caption with the start token\n",
        "  caption = [tokenizer.word_index['startseq']]\n",
        "  # loop until the end token or the maximum length is reached\n",
        "  for i in range(max_length):\n",
        "    # pad the caption sequence\n",
        "    padded_caption = pad_sequences([caption], maxlen=max_length, padding='post')\n",
        "    # predict the next word using the model\n",
        "    prediction = model.predict([image_vec, padded_caption], verbose=0)\n",
        "    # get the word with the highest probability\n",
        "    word_index = np.argmax(prediction)\n",
        "    # append the word to the caption\n",
        "    caption.append(word_index)\n",
        "    # break if the end token is reached\n",
        "    if word_index == tokenizer.word_index['endseq']:\n",
        "      break\n",
        "  # convert the caption indices to words\n",
        "  caption_words = [tokenizer.index_word[i] for i in caption]\n",
        "  # join the words to form a sentence\n",
        "  caption_sentence = ' '.join(caption_words[1:-1])\n",
        "  return caption_sentence"
      ]
    },
    {
      "cell_type": "code",
      "execution_count": null,
      "metadata": {
        "id": "8d0r5UjhV8Q-"
      },
      "outputs": [],
      "source": [
        "generated_caption = predict_caption(\"./test_img.jpg\")\n",
        "print(generated_caption)"
      ]
    },
    {
      "cell_type": "code",
      "execution_count": null,
      "metadata": {
        "id": "7owjVv1BmGZb"
      },
      "outputs": [],
      "source": [
        "def beam_search_caption(image_path, k=3):\n",
        "    # encode the image\n",
        "    image_vec = encode(image_path)\n",
        "    image_vec = image_vec.reshape(1, -1)\n",
        "    # initialize the caption with the start token\n",
        "    caption = [tokenizer.word_index['startseq']]\n",
        "    # initialize the candidates list with the initial caption and score\n",
        "    candidates = [(caption, 0)]\n",
        "    \n",
        "    # loop until the end token or the maximum length is reached\n",
        "    for i in range(max_length):\n",
        "        new_candidates = []\n",
        "        # loop over each candidate\n",
        "        for candidate in candidates:\n",
        "            # pad the caption to the maximum length\n",
        "            padded_caption = pad_sequences([candidate[0]], maxlen=max_length, padding='post')\n",
        "            # predict the next word using the model\n",
        "            prediction = model.predict([image_vec, padded_caption], verbose=0)\n",
        "            # get the top k words and their probabilities\n",
        "            top_k_words = np.argsort(prediction[0])[-k:]\n",
        "            top_k_probs = np.sort(prediction[0])[-k:]\n",
        "            # loop over each top k word\n",
        "            for j in range(k):\n",
        "                # append the word to the caption and compute the new score\n",
        "                new_caption = candidate[0] + [top_k_words[j]]\n",
        "                new_score = candidate[1] + np.log(top_k_probs[j])\n",
        "                # if the end token is reached, add the caption to the new_candidates list\n",
        "                if top_k_words[j] == tokenizer.word_index['endseq']:\n",
        "                    new_candidates.append((new_caption, new_score))\n",
        "                # otherwise, if the maximum length is reached, add the caption to the new_candidates list and set the score to negative infinity\n",
        "                elif len(new_caption) == max_length:\n",
        "                    new_candidates.append((new_caption, float('-inf')))\n",
        "                # otherwise, add the new caption and score to the new_candidates list\n",
        "                else:\n",
        "                    new_candidates.append((new_caption, new_score))\n",
        "        # select the top k candidates and update the candidates list\n",
        "        candidates = sorted(new_candidates, key=lambda x: x[1], reverse=True)[:k]\n",
        "        # if the top candidate has the end token, break out of the loop\n",
        "        if candidates[0][0][-1] == tokenizer.word_index['endseq']:\n",
        "            break\n",
        "    \n",
        "    # convert the caption indices to words for the top candidate\n",
        "    caption_words = [tokenizer.index_word[i] for i in candidates[0][0]]\n",
        "    # remove start and end tokens from the caption\n",
        "    caption_words = caption_words[1:-1]\n",
        "    # join the words to form a sentence\n",
        "    caption_sentence = ' '.join(caption_words)\n",
        "    return caption_sentence\n"
      ]
    },
    {
      "cell_type": "code",
      "source": [
        "generated_caption = beam_search_caption(\"./test_img.jpg\")\n",
        "print(generated_caption)"
      ],
      "metadata": {
        "id": "fHwih_fgbfwV"
      },
      "execution_count": null,
      "outputs": []
    },
    {
      "cell_type": "markdown",
      "metadata": {
        "id": "-cffdeMRmHEb"
      },
      "source": [
        "# Model 2, more complicated\n",
        "* You can use a bidirectional LSTM instead of a single LSTM for the caption encoder. This way, you can capture the context from both directions of the caption sequence, and generate more coherent captions.\n",
        "\n",
        "* You can use an attention mechanism to allow the decoder to focus on different parts of the image and the caption encoder outputs at each time step. This way, you can generate more relevant and informative captions that align with the image content.\n",
        "\n",
        "* You can use a scheduled sampling technique to train the decoder with a mix of ground truth and predicted words. This way, you can reduce the exposure bias and improve the generalization ability of the decoder.\n",
        "\n",
        "* You can use a beam search instead of a greedy search for generating captions. This way, you can explore more possible captions and choose the one with the highest probability."
      ]
    },
    {
      "cell_type": "code",
      "execution_count": null,
      "metadata": {
        "id": "93vaiXH4mJx5"
      },
      "outputs": [],
      "source": [
        "from tensorflow.keras import layers, Model\n",
        "from tensorflow.keras.layers import Bidirectional\n",
        "from tensorflow.keras.layers import Attention\n",
        "\n",
        "# define the model\n",
        "ip1 = layers.Input(shape = (2048, ))\n",
        "fe1 = layers.Dropout(0.2)(ip1)\n",
        "fe2 = layers.Dense(256, activation = 'relu')(fe1)\n",
        "ip2 = layers.Input(shape = (max_length, ))\n",
        "se1 = layers.Embedding(vocab_size, embedding_dim, mask_zero = True)(ip2)\n",
        "se2 = layers.Dropout(0.2)(se1)\n",
        "se3 = Bidirectional(layers.LSTM(256, return_sequences=True))(se2) # use bidirectional LSTM\n",
        "decoder1 = layers.add([fe2, se3[:, -1]]) # use last hidden state of bidirectional LSTM\n",
        "decoder2 = layers.Dense(256, activation = 'relu')(decoder1)\n",
        "attn_layer = Attention() # use attention layer\n",
        "context_vector, attention_weights = attn_layer([decoder2, se3]) # get context vector and attention weights\n",
        "decoder3 = layers.Dense(256, activation='relu')(context_vector) # use context vector for final dense layer\n",
        "outputs = layers.Dense(vocab_size, activation = 'softmax')(decoder3)\n",
        "model_v2 = Model(inputs = [ip1, ip2], outputs = outputs)\n",
        "\n",
        "model_v2.layers[3].set_weights([embedding_matrix])\n",
        "model_v2.layers[3].trainable = False\n",
        "model_v2.compile(loss = 'categorical_crossentropy', optimizer = 'adam')\n",
        "\n",
        "num_batches = len(df_txt0) // batch_size\n",
        "model_v2.fit(train_generator, epochs = 50, steps_per_epoch=num_batches, verbose = 1)"
      ]
    },
    {
      "cell_type": "code",
      "execution_count": null,
      "metadata": {
        "id": "7UXfPrCcmxsq"
      },
      "outputs": [],
      "source": []
    },
    {
      "cell_type": "markdown",
      "metadata": {
        "id": "HZ6uH3DimysF"
      },
      "source": [
        "## Beam search"
      ]
    },
    {
      "cell_type": "code",
      "execution_count": null,
      "metadata": {
        "id": "lgdmGhyLmy8M"
      },
      "outputs": [],
      "source": [
        "def beam_search(image_path, beam_size):\n",
        "  # encode the image\n",
        "  image_vec = encode(image_path)\n",
        "  # add another dimension to match the model input\n",
        "  image_vec = np.expand_dims(image_vec, axis=0)\n",
        "  # initialize the candidates with the start token\n",
        "  candidates = [[tokenizer.word_index['<start>']]]\n",
        "  # initialize the probabilities with 1\n",
        "  probabilities = [1]\n",
        "  # loop until the maximum length is reached\n",
        "  for i in range(max_length):\n",
        "    # initialize a list to store the next candidates\n",
        "    next_candidates = []\n",
        "    # initialize a list to store the next probabilities\n",
        "    next_probabilities = []\n",
        "    # loop over the current candidates\n",
        "    for j in range(len(candidates)):\n",
        "      # get the current candidate\n",
        "      candidate = candidates[j]\n",
        "      # pad the candidate sequence\n",
        "      padded_candidate = pad_sequences([candidate], maxlen=max_length, padding='post')\n",
        "      # predict the next word using the model\n",
        "      prediction = model.predict([image_vec, padded_candidate], verbose=0)\n",
        "      # get the top beam_size words and their probabilities\n",
        "      top_words = np.argsort(prediction[0])[-beam_size:]\n",
        "      top_probs = prediction[0][top_words]\n",
        "      # loop over the top words and their probabilities\n",
        "      for k in range(beam_size):\n",
        "        # get the word and its probability\n",
        "        word = top_words[k]\n",
        "        prob = top_probs[k]\n",
        "        # append the word to the candidate and multiply the probability\n",
        "        next_candidate = candidate + [word]\n",
        "        next_prob = probabilities[j] * prob\n",
        "        # append the next candidate and probability to the lists\n",
        "        next_candidates.append(next_candidate)\n",
        "        next_probabilities.append(next_prob)\n",
        "    # sort the next candidates and probabilities by descending order of probability\n",
        "    sorted_indices = np.argsort(next_probabilities)[::-1]\n",
        "    sorted_candidates = [next_candidates[i] for i in sorted_indices]\n",
        "    sorted_probabilities = [next_probabilities[i] for i in sorted_indices]\n",
        "    # select the top beam_size candidates and probabilities for the next iteration\n",
        "    candidates = sorted_candidates[:beam_size]\n",
        "    probabilities = sorted_probabilities[:beam_size]\n",
        "    # check if any candidate has reached the end token\n",
        "    end_index = tokenizer.word_index['<end>']\n",
        "    if any(candidate[-1] == end_index for candidate in candidates):\n",
        "      break\n",
        "  # return the candidate with the highest probability\n",
        "  best_candidate = candidates[0]\n",
        "  # convert the candidate indices to words\n",
        "  caption_words = [tokenizer.index_word[i] for i in best_candidate]\n",
        "  # join the words to form a sentence\n",
        "  caption_sentence = ' '.join(caption_words[1:-1])\n",
        "  return caption_sentence"
      ]
    },
    {
      "cell_type": "code",
      "source": [
        "from tensorflow.keras.layers import TextVectorization\n",
        "from tensorflow.keras.utils import pad_sequences\n",
        "from tensorflow.keras.utils import to_categorical\n",
        "import tensorflow as tf\n",
        "\n",
        "def data_generator(df, image_data, batch_size):\n",
        "    # create a dataset from the data frame\n",
        "    ds = tf.data.Dataset.from_tensor_slices((df['filename'], df['caption']))\n",
        "    # map the filename to the image data\n",
        "    ds = ds.map(lambda x, y: (image_data[x], y))\n",
        "    # apply the TextVectorization layer as a transformation\n",
        "    ds = ds.map(lambda x, y: (x, vectorizer([y])))\n",
        "    # unbatch the dataset to get individual elements\n",
        "    ds = ds.unbatch()\n",
        "    # create input and output sequences\n",
        "    ds = ds.map(lambda x, y: (x, y[:-1], y[1:]))\n",
        "    # pad and one-hot encode the sequences if needed\n",
        "    # ds = ds.map(lambda x, y, z: (x, pad_sequences([y], maxlen=max_length)[0], to_categorical([z], num_classes=vocab_size)[0]))\n",
        "    # batch the dataset\n",
        "    ds = ds.batch(batch_size)\n",
        "    return ds\n",
        "\n",
        "batch_size = 64\n",
        "train_generator = data_generator(df_txt, image_data, batch_size)"
      ],
      "metadata": {
        "id": "nSA86kO8z39g"
      },
      "execution_count": null,
      "outputs": []
    }
  ],
  "metadata": {
    "accelerator": "GPU",
    "colab": {
      "provenance": [],
      "mount_file_id": "1j34JQ1hZ0Wm5z3q_dXZ-htbFB9j72_i5",
      "authorship_tag": "ABX9TyP+Aqi1OsjrRu89TbhheHeO",
      "include_colab_link": true
    },
    "gpuClass": "standard",
    "kernelspec": {
      "display_name": "Python 3",
      "name": "python3"
    },
    "language_info": {
      "name": "python"
    }
  },
  "nbformat": 4,
  "nbformat_minor": 0
}